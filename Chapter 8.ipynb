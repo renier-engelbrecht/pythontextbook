{
 "metadata": {
  "name": "",
  "signature": "sha256:c1455bfe1f31bc7e92afe0868c0576b72db99eab1fdd8bba465a9fca3ee83c0c"
 },
 "nbformat": 3,
 "nbformat_minor": 0,
 "worksheets": [
  {
   "cells": [
    {
     "cell_type": "heading",
     "level": 1,
     "metadata": {},
     "source": [
      "Chapter 8 - Decision Making - Selection"
     ]
    },
    {
     "cell_type": "markdown",
     "metadata": {},
     "source": [
      "From comparison operators to logical operators, to making a decision on data, and which way the program should direct, the input, processing or output, depending on the data. Not all instructions are straight forward, but can only be executed, when certain conditions are met, or when certain conditions are not present.<br/>\n",
      "Selection is based on either True or False, which can be made up of comparison operators, logical operators, or the combination thereof."
     ]
    },
    {
     "cell_type": "markdown",
     "metadata": {},
     "source": [
      "![Condition](pic2.png)"
     ]
    },
    {
     "cell_type": "markdown",
     "metadata": {},
     "source": [
      "Python 3 has one types of Selection statement. The first is the if/if else and the if/elif statement. There is no case/switch statement in Python 3. This is substituted by the if/elif statement."
     ]
    },
    {
     "cell_type": "heading",
     "level": 2,
     "metadata": {},
     "source": [
      "if/if else Statement"
     ]
    },
    {
     "cell_type": "markdown",
     "metadata": {},
     "source": [
      "The statement looks as follows:<br/>\n",
      "    if (var == 45): <br/>\n",
      "    &nbsp;&nbsp;&nbsp;&nbsp;&nbsp;print (45)<br/>\n",
      "    else:<br/>\n",
      "    &nbsp;&nbsp;&nbsp;&nbsp;&nbsp;print ('Not 45')<br/>"
     ]
    },
    {
     "cell_type": "markdown",
     "metadata": {},
     "source": [
      "if (var!=50):<br/>\n",
      "&nbsp;&nbsp;&nbsp;&nbsp;&nbsp;print ('Not 45')"
     ]
    },
    {
     "cell_type": "code",
     "collapsed": false,
     "input": [
      "var=45\n",
      "\n",
      "if (var==45):\n",
      "    print (45)\n",
      "else:\n",
      "    print ('Not 45')\n",
      "\n",
      "if (var != 50):\n",
      "    print ('Not 50')"
     ],
     "language": "python",
     "metadata": {},
     "outputs": [
      {
       "output_type": "stream",
       "stream": "stdout",
       "text": [
        "45\n",
        "Not 50\n"
       ]
      }
     ],
     "prompt_number": 4
    },
    {
     "cell_type": "markdown",
     "metadata": {},
     "source": [
      ">In the example above there are two types of if statements. The first example decides if a var value is equal to 45. If the answer comes back to True, then the statement will print the 45, otherwise the False statement will print Not 45.  \n",
      "In the second example if the var value is not 50 then a statement will print Not 50.\n"
     ]
    },
    {
     "cell_type": "markdown",
     "metadata": {},
     "source": [
      "There are a few new components here.\n",
      "1. The selection/decision will always be inside round brackets.<br/>\n",
      "2. At the end of the sentence there is a colon to indicate the end of the decision.<br/>\n",
      "3. Underneath the if part, is always the True part, and what should be done if the statement returns to true.<br/>\n",
      "4.There is always 4 spaces or one tab (leading spaces or indentation)to the next command. This indicates that this command falls under the if statement.<br/>\n",
      "5. The else statement, although part of the if statement, is on its own. The false part, again is 4 spaces or one tab away from the beginning, indicates that this command falls under the false part of the if statement."
     ]
    },
    {
     "cell_type": "heading",
     "level": 3,
     "metadata": {},
     "source": [
      "Indentation in Python 3"
     ]
    },
    {
     "cell_type": "markdown",
     "metadata": {},
     "source": [
      "Code blocks are defined by their indentation. Indentation in Python 3 works by tabbing once, or four lines. Indentation indicates that this particular code belongs to the statement above that is not indented, or indented at a lower level. Indentation is usually present with if statements, loops, while loops, functions, objects etc.<br/>\n",
      "Indentation starts the block of code, and ends when the next statement, goes back to the original position before indentation.<br/>\n",
      "Let us get back to our example and analyse the example."
     ]
    },
    {
     "cell_type": "code",
     "collapsed": false,
     "input": [
      "var = 45 # Assigns the value to var"
     ],
     "language": "python",
     "metadata": {},
     "outputs": [],
     "prompt_number": 5
    },
    {
     "cell_type": "markdown",
     "metadata": {},
     "source": [
      "Assigns the value to the variable we are going to evaluate with an if statement."
     ]
    },
    {
     "cell_type": "code",
     "collapsed": false,
     "input": [
      "if (var==45):\n",
      "    print (45)\n",
      "else:\n",
      "    print ('Not 45')"
     ],
     "language": "python",
     "metadata": {},
     "outputs": [
      {
       "output_type": "stream",
       "stream": "stdout",
       "text": [
        "45\n"
       ]
      }
     ],
     "prompt_number": 8
    },
    {
     "cell_type": "markdown",
     "metadata": {},
     "source": [
      ">The variable called var is evaluated by a comparison operator, and returns a true statement.  \n",
      "There is an indentation, meaning the command forms part of the True part of the if statement.  \n",
      "In this case the command will be executed as the if statement returned True."
     ]
    },
    {
     "cell_type": "code",
     "collapsed": false,
     "input": [
      "var = 50;\n",
      "if (var==45):\n",
      "    print (45)\n",
      "else:\n",
      "    print ('Not 45')"
     ],
     "language": "python",
     "metadata": {},
     "outputs": [
      {
       "output_type": "stream",
       "stream": "stdout",
       "text": [
        "Not 45\n"
       ]
      }
     ],
     "prompt_number": 9
    },
    {
     "cell_type": "markdown",
     "metadata": {},
     "source": [
      ">In this example, the value of var is 46. When compared by the if statement, the if statement will return False. The True part will not be executed, but the else statement part will be executed. As you can see, under the else, there is another indentation, meaning that this code will form part of the else. In this case this code will be executed."
     ]
    },
    {
     "cell_type": "code",
     "collapsed": false,
     "input": [
      "var = 45;\n",
      "if (var==45):\n",
      "    print (var)\n",
      "    print ('This value is correct')\n",
      "else:\n",
      "    print ('Not 45')\n",
      "    print ('Wrong Value',var)"
     ],
     "language": "python",
     "metadata": {},
     "outputs": [
      {
       "output_type": "stream",
       "stream": "stdout",
       "text": [
        "45\n",
        "This value is correct\n"
       ]
      }
     ],
     "prompt_number": 10
    },
    {
     "cell_type": "markdown",
     "metadata": {},
     "source": [
      ">From this example, there are more commands under both the true part and the false part. The indentation is applied to both print statements, the one prints the value of var, and the other print that This value is correct."
     ]
    },
    {
     "cell_type": "code",
     "collapsed": false,
     "input": [
      "var = 50;\n",
      "if (var==45):\n",
      "    print (var)\n",
      "    print ('This value is correct')\n",
      "else:\n",
      "    print ('Not 45')\n",
      "    print ('Wrong Value',var)"
     ],
     "language": "python",
     "metadata": {},
     "outputs": [
      {
       "output_type": "stream",
       "stream": "stdout",
       "text": [
        "Not 45\n",
        "Wrong Value 50\n"
       ]
      }
     ],
     "prompt_number": 11
    },
    {
     "cell_type": "markdown",
     "metadata": {},
     "source": [
      ">In this example the False part of the if statement is executed. The value of var is not 45, and the True part of the statement will not be executed. The False part consisting of two print statement are executed."
     ]
    },
    {
     "cell_type": "code",
     "collapsed": false,
     "input": [
      "var = 45\n",
      "if (var != 50):\n",
      "    print ('Not 50')"
     ],
     "language": "python",
     "metadata": {},
     "outputs": [
      {
       "output_type": "stream",
       "stream": "stdout",
       "text": [
        "Not 50\n"
       ]
      }
     ],
     "prompt_number": 12
    },
    {
     "cell_type": "markdown",
     "metadata": {},
     "source": [
      ">In this example, there is no else part. There is only a True part when needed. This basically means, if this statement is false, do nothing."
     ]
    },
    {
     "cell_type": "markdown",
     "metadata": {},
     "source": [
      "Another example of a problem involving selection of decision making.\n",
      "Display the mark of a student and a comment. If the mark is above 80 then display a comment: Well Done!; otherwise display the mark and the following comment: A good mark."
     ]
    },
    {
     "cell_type": "code",
     "collapsed": false,
     "input": [
      "mark = 65\n",
      "if (mark >= 80):\n",
      "    print ('Your mark is',mark)\n",
      "    print ('Well Done!')\n",
      "else:\n",
      "    print ('Your mark is', mark)\n",
      "    print ('A Good mark')"
     ],
     "language": "python",
     "metadata": {},
     "outputs": [
      {
       "output_type": "stream",
       "stream": "stdout",
       "text": [
        "Your mark is 65\n",
        "A Good mark\n"
       ]
      }
     ],
     "prompt_number": 15
    },
    {
     "cell_type": "markdown",
     "metadata": {},
     "source": [
      ">In this example the True part is executed and all the commands under the True part of the if statement is executed."
     ]
    },
    {
     "cell_type": "heading",
     "level": 2,
     "metadata": {},
     "source": [
      "Activity 11"
     ]
    },
    {
     "cell_type": "markdown",
     "metadata": {},
     "source": [
      "1. When users create passwords they sometimes use the password 123456. Write a program that will let the user enter the password. If the password is 123456 then display a message that this password is incorrect and will not be accpeted.<br/>\n",
      "2. The user needs to enter two numbers. If value1 is bigger than value2, then display a message that value1 is greater than value2. If this is not the case, display the message that value2 is greater than value1.<br/>\n",
      "3. A shopkeeper wants you to write a program that will determine discount above a certain price. If the shopkeeper enters R 1000.00 or more then a discount of 10% should be applied to the price. The shopkeeper want to display the final price, if discount is applied, otherwise the final price without discount.<br/>\n",
      "4. Write a program that will generate a random number. Do not display the number. Ask the user to enter a number. If the number the user entered, is too large, display a message, \"Number too large\", else, display a message \"number too small\". At the end show the difference between the number entered and the number generated. Always show the difference as a positive number.<br/>"
     ]
    },
    {
     "cell_type": "heading",
     "level": 2,
     "metadata": {},
     "source": [
      "elif Statement"
     ]
    },
    {
     "cell_type": "code",
     "collapsed": false,
     "input": [
      "var = 50\n",
      "if var == 100:\n",
      "    print ('Var is 100')\n",
      "elif var == 200:\n",
      "    print ('Var is 200')\n",
      "elif var == 250:\n",
      "    print ('var is 250')\n",
      "elif var == 50:\n",
      "    print ('var is 50')\n",
      "else:\n",
      "    print ('Not one of the values')"
     ],
     "language": "python",
     "metadata": {},
     "outputs": [
      {
       "output_type": "stream",
       "stream": "stdout",
       "text": [
        "var is 50\n"
       ]
      }
     ],
     "prompt_number": 1
    },
    {
     "cell_type": "markdown",
     "metadata": {},
     "source": [
      "Although Python 3 or Python 2 does not provide a switch/case statement, the user can simulate this by using the elif statement.  \n",
      "The statement starts off with a normal if statement. Using comparison operators and logical operators, the user can define scopes and ranges that simulate the switch/case.  \n",
      "Example. The temperature range of an engine can be defined as follows:  \n",
      "From 10 - 50 degrees the engine runs cold.  \n",
      "Between 51 and 70 the engine runs normal temperature.  \n",
      "Above 70 and to 120 degrees the engine overheats.  \n",
      "Above 120 degrees there is usually a blowout by the engine.  \n",
      "The user can use the if and elif to create a range for each part of the engine. The user enters a number and a message is displayed where the engine temperature currently resides in the range, using only the descriptors."
     ]
    },
    {
     "cell_type": "code",
     "collapsed": false,
     "input": [
      "engineTemp = 71\n",
      "if (engineTemp>= 10 and engineTemp<=50) :\n",
      "    print ('The engine is cold')\n",
      "elif (engineTemp>= 51 and engineTemp<=70):\n",
      "    print ('Normal Temprature of engine')\n",
      "elif (engineTemp>= 71 and engineTemp<=120):\n",
      "    print ('Engine running hot')\n",
      "elif (engineTemp>= 121):\n",
      "    print ('Blowout by engine')\n",
      "else:\n",
      "    print ('Not in normal range')"
     ],
     "language": "python",
     "metadata": {},
     "outputs": [
      {
       "output_type": "stream",
       "stream": "stdout",
       "text": [
        "Engine running hot\n"
       ]
      }
     ],
     "prompt_number": 5
    },
    {
     "cell_type": "markdown",
     "metadata": {},
     "source": [
      ">The above example shows the breakdown using comparison, and logical operators, included the elif statement."
     ]
    },
    {
     "cell_type": "heading",
     "level": 2,
     "metadata": {},
     "source": [
      "Activity 12"
     ]
    },
    {
     "cell_type": "markdown",
     "metadata": {},
     "source": [
      "Answer the following questions by using if/elif, comparison and logical operators.\n",
      "1. Write a program to indicate the season when the user types in a month as a number.<br/>\n",
      "January - February is Summer<br/>\n",
      "March - May is Autumn<br/>\n",
      "June - August is Winter<br/>\n",
      "September - November is Spring<br/>\n",
      "December is Summer<br/>\n",
      "2. A student enters a marks out of 100.<br/>\n",
      "   If the mark is equal or above 80% display a message, \"You got a distinction\".<br/>\n",
      "   If the mark is between 50% and 79% the message should read, \"Congratulations. You passed\"<br/>\n",
      "   If the mark is below 50%, a message containing \"You failed\"<br/>\n",
      "   If the mark is below 0%, or above 100% show a message to indicate that the mark is out of range<br/>\n",
      "3. A representative that sells goods would like to give discount to customers the more they sell. The proposal for discount is as follows:<br/>\n",
      "if the customer buys more than 100 items, but less than 500, a discount of 5% is given on the invoice amount.<br/>\n",
      "Between 500 and a 1000 items the discount increases to 10%.<br/>\n",
      "Over a 1000 items the discount is 15%.<br/>\n",
      "Write a program where the representative enters the amount of products sold and the final price of the invoice. based on the criteria above, The invoice amount as entered, the discount received and the final invoice amount need to be displayed.<br/>\n"
     ]
    }
   ],
   "metadata": {}
  }
 ]
}