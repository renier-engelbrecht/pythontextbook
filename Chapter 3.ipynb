{
 "metadata": {
  "name": "",
  "signature": "sha256:88274dba6bf8b66d13dabd5726ad6fc643f512345a4c3671ee28c09045f30202"
 },
 "nbformat": 3,
 "nbformat_minor": 0,
 "worksheets": [
  {
   "cells": [
    {
     "cell_type": "heading",
     "level": 1,
     "metadata": {},
     "source": [
      "Chapter 3 - Processing"
     ]
    },
    {
     "cell_type": "markdown",
     "metadata": {},
     "source": [
      "In this chapter the focus is on entering data, calculate results and display the result. For example, the user enters two numbers, the numbers are stores in variables. A calculation such as addition is done, and the answer displayed as output.\n",
      "Therefore the complete process the focus of this chapter is input -> processing -> output.<br/>\n",
      "From this point onwards you do not need to use the interactive shell anymore. Better would be to create a file and save the file as a python file. When saved, press F5 on the keyboard to run the program."
     ]
    },
    {
     "cell_type": "markdown",
     "metadata": {},
     "source": [
      "Here is the example from above."
     ]
    },
    {
     "cell_type": "code",
     "collapsed": false,
     "input": [
      "#input\n",
      "value1 = input('Please enter a first value as integer:')\n",
      "print ('The type of variable', type(value1))#This displayes the type of variable\n",
      "value2 = input('Please enter a second value as float:')\n",
      "print ('The type of variable', type(value2))#This displayes the type of variable\n",
      "value1 = int(value1) #converts to an integer from a string\n",
      "value2 = float(value2) #converts from an integer to a string\n",
      "#process\n",
      "answer = value1 + value2\n",
      "#output\n",
      "print('The answer to',value1, '+', value2, 'is',answer)"
     ],
     "language": "python",
     "metadata": {},
     "outputs": []
    },
    {
     "cell_type": "markdown",
     "metadata": {},
     "source": [
      ">Here is something new. In line 3 we re-assigned value 1 using an int in front of value 1. \n",
      "The statement value1 = int(value1). Why is that? In Python 3, using the keyword input, all values are actually stored as text. To apply mathematics to the variables, the user need to change the type of variable to a number, using int. The same applies to float.<br/> Therefore, before the user can process the variables, or add up to obtain the answer, the variables needs to be converted (cast) to another type of variable. In this case the variables are changed to int and float.\n",
      "Thereafter the processing can be done correctly, adding up, and the answer displayed."
     ]
    },
    {
     "cell_type": "code",
     "collapsed": false,
     "input": [
      "value1 = input('Please enter a first value as integer: ')\n",
      "print ('This is the variable type',type(value1))\n",
      "print ('Change the type of variable to integer')\n",
      "value1 = int(value1)\n",
      "print ('This is the variable type',type(value1))"
     ],
     "language": "python",
     "metadata": {},
     "outputs": []
    },
    {
     "cell_type": "markdown",
     "metadata": {},
     "source": [
      ">As you can see from the above example, value1 was assigned as a string (str) but changed to integer (int). This is important in Python 3, as this manner of input is different from Python 2.  \n",
      "There are numerous examples and different ways to implement an input. In this particular version this is the way to use input. First input numbers as text, then convert to numbers as required."
     ]
    },
    {
     "cell_type": "markdown",
     "metadata": {},
     "source": [
      "The complete process is input -> process -> output. This is an important way to design and implement programs. When designing a program, always keep this in mind. Any program require input, in the form of data from the keyboard, file, or other source. This data need to be processed to answer an output. Take a look at the following example:<br/>\n",
      "A scientist require a program that will convert Celsius to Fahrenheit. The program requires the user to input the temperature in Celsius, process the input, and display the temperature in Fahrenheit.<br/>\n",
      "The problem always has the following components:\n"
     ]
    },
    {
     "cell_type": "heading",
     "level": 2,
     "metadata": {},
     "source": [
      "Input"
     ]
    },
    {
     "cell_type": "markdown",
     "metadata": {},
     "source": [
      "The scientist need to enter a value, in this instance as celsuis."
     ]
    },
    {
     "cell_type": "code",
     "collapsed": false,
     "input": [
      "celsius = input('Please enter the value in celsius: ')\n",
      "celsius = float(celsius) #Remember to convert to a number Still part of the input"
     ],
     "language": "python",
     "metadata": {},
     "outputs": [
      {
       "name": "stdout",
       "output_type": "stream",
       "stream": "stdout",
       "text": [
        "Please enter the value in celsius: 0\n"
       ]
      }
     ],
     "prompt_number": 1
    },
    {
     "cell_type": "heading",
     "level": 2,
     "metadata": {},
     "source": [
      "Process"
     ]
    },
    {
     "cell_type": "markdown",
     "metadata": {},
     "source": [
      "Using a formula where 0 degree celsius = 32 degree fahrenheit, convert whatever the scientist inputs to an answer.<br/>\n",
      "We can write the formula as follows: fahrenheit = celsius + 32"
     ]
    },
    {
     "cell_type": "code",
     "collapsed": false,
     "input": [
      "fahrenheit = celsius + 32"
     ],
     "language": "python",
     "metadata": {},
     "outputs": [],
     "prompt_number": 4
    },
    {
     "cell_type": "heading",
     "level": 2,
     "metadata": {},
     "source": [
      "Output"
     ]
    },
    {
     "cell_type": "markdown",
     "metadata": {},
     "source": [
      "Display the output."
     ]
    },
    {
     "cell_type": "code",
     "collapsed": false,
     "input": [
      "print (celsius, 'Celsius to Fahrenheit',fahrenheit)"
     ],
     "language": "python",
     "metadata": {},
     "outputs": [
      {
       "output_type": "stream",
       "stream": "stdout",
       "text": [
        "0.0 Celsius to Fahrenheit 32.0\n"
       ]
      }
     ],
     "prompt_number": 5
    },
    {
     "cell_type": "code",
     "collapsed": false,
     "input": [
      "# The complete program\n",
      "#input\n",
      "celsius = input('Please enter the value in celsius: ')\n",
      "celsius = float(celsius) #Remember to convert to a number Still part of the input\n",
      "#process\n",
      "fahrenheit = celsius + 32\n",
      "#output\n",
      "print (celsius, 'Celsius to Fahrenheit',fahrenheit)"
     ],
     "language": "python",
     "metadata": {},
     "outputs": [
      {
       "name": "stdout",
       "output_type": "stream",
       "stream": "stdout",
       "text": [
        "Please enter the value in celsius: 10.35\n"
       ]
      },
      {
       "output_type": "stream",
       "stream": "stdout",
       "text": [
        "10.35 Celsius to Fahrenheit 42.35\n"
       ]
      }
     ],
     "prompt_number": 6
    },
    {
     "cell_type": "heading",
     "level": 3,
     "metadata": {},
     "source": [
      "Activity 6"
     ]
    },
    {
     "cell_type": "markdown",
     "metadata": {},
     "source": [
      "Do the following.\n",
      "1. A local shopkeeper needs a program to determine VAT and the grand total for invoices. The shopkeeper needs to enter the total for the invoice and the program must display the invoice total, the VAT and the grand total of the invoice.<br/>\n",
      "2. A fellow student asks you to give a term mark for a particular subject. The student enters the name and surname. A mark out of 70 is entered. The program must display the surname, then the name and then the mark out of 100. <br/>\n",
      "3. A fuel station around the corner supplies fuel to exotic cars. These cars are marked in gallons. When a customer ask for gallons the fuel station owner must first convert to litres, and then supply the customer with the correct amount of fuel. 1 gallon = 3.78541178 litres. The fuel station owner requires a program that can do this conversion and display the converted amount<br/>\n",
      "4. Write a program that is able to calculate the term mark for a particular subject. There are different marks and each one is a different weight. The marks and weight is as follows:<br/>\n",
      "Mark1 out of 70, weight 25%<br/>\n",
      "Mark2 out of 50, weight 25%<br/>\n",
      "Mark3 out of 80, weight 40%<br/>\n",
      "Mark4 out of 30, weight 10%<br/>\n",
      "5. A business owner that puts in carpets for his business asks you to write a program that will be able to give quick quotations when a customer asks for a quotation. For a quick quotation, the type of carpet is always a rectangle. He would like to enter the dimensions, and based on the area, calculate a price.<br/>\n",
      "The final price is made up of the following:<br/>\n",
      "Material cost: R 299.00 per square meter<br/>\n",
      "Other materials: 15% of the total material cost<br/>\n",
      "Labour: R 15 per square meter (floor division?)<br/>\n",
      "Subtotal: All above costs added<br/>\n",
      "VAT @ 14%<br/>\n",
      "Final Price<br/>\n",
      "6. The local railway station master needs a program to be able to determine how many carriages he needs to carry bails of wool to the market. Each carriage holds 6 tons of bails of wool, and each bail weights around 1 ton. When the bails arrive at the station they are counted. This figure must be presented on how many carriages he needs to fill. (Modulus and floor division?)"
     ]
    }
   ],
   "metadata": {}
  }
 ]
}