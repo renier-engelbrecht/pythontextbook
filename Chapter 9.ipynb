{
 "metadata": {
  "name": "",
  "signature": "sha256:4e1246e71a019bd2e5dc11cda0a87e5ece0709ab48a24f00d036a09ec8d2ca46"
 },
 "nbformat": 3,
 "nbformat_minor": 0,
 "worksheets": [
  {
   "cells": [
    {
     "cell_type": "heading",
     "level": 1,
     "metadata": {},
     "source": [
      "Chapter 9 - Loops - Iteration"
     ]
    },
    {
     "cell_type": "markdown",
     "metadata": {},
     "source": [
      "In every day life there is not only simple tasks. Most of the tasks that a person does, repeats and happens more than once. This is the type of work that a computer does well. The computer is very patient to repeat tasks over and over again.<br/>\n",
      "One of these tasks may be the calculation of the times table, for example, the 2x table. Look at the following code:<br/>"
     ]
    },
    {
     "cell_type": "code",
     "collapsed": false,
     "input": [
      "print ('1 x 2 = 2')\n",
      "print ('2 x 2 = 4')\n",
      "print ('3 x 2 = 6')\n",
      "print ('4 x 2 = 8')\n",
      "print ('5 x 2 = 10')\n",
      "print ('6 x 2 = 12')\n",
      "print ('7 x 2 = 14')\n",
      "print ('8 x 2 = 16')\n",
      "print ('9 x 2 = 18')\n",
      "print ('10 x 2 = 20')\n",
      "print ('11 x 2 = 22')\n",
      "print ('12 x 2 = 24')\n"
     ],
     "language": "python",
     "metadata": {},
     "outputs": [
      {
       "output_type": "stream",
       "stream": "stdout",
       "text": [
        "1 x 2 = 2\n",
        "2 x 2 = 4\n",
        "3 x 2 = 6\n",
        "4 x 2 = 8\n",
        "5 x 2 = 10\n",
        "6 x 2 = 12\n",
        "7 x 2 = 14\n",
        "8 x 2 = 16\n",
        "9 x 2 = 18\n",
        "10 x 2 = 20\n",
        "11 x 2 = 22\n",
        "12 x 2 = 24\n"
       ]
      }
     ],
     "prompt_number": 3
    },
    {
     "cell_type": "markdown",
     "metadata": {},
     "source": [
      ">The above example is definitely not the way to do something like this. For one, there is a huge amount of repetition, which can lead to making faults. This is just not good coding!  \n",
      "Let us redo the above example using a loop."
     ]
    },
    {
     "cell_type": "code",
     "collapsed": false,
     "input": [
      "for counter in range(1,13,1):\n",
      "    print (counter,'x 2 =',counter * 2)"
     ],
     "language": "python",
     "metadata": {},
     "outputs": [
      {
       "output_type": "stream",
       "stream": "stdout",
       "text": [
        "1 x 2 = 2\n",
        "2 x 2 = 4\n",
        "3 x 2 = 6\n",
        "4 x 2 = 8\n",
        "5 x 2 = 10\n",
        "6 x 2 = 12\n",
        "7 x 2 = 14\n",
        "8 x 2 = 16\n",
        "9 x 2 = 18\n",
        "10 x 2 = 20\n",
        "11 x 2 = 22\n",
        "12 x 2 = 24\n"
       ]
      }
     ],
     "prompt_number": 6
    },
    {
     "cell_type": "markdown",
     "metadata": {},
     "source": [
      ">The code went from twelve print statements, to two statements. This is the power of loops. Loops can shorten the program by a large amount of lines."
     ]
    },
    {
     "cell_type": "markdown",
     "metadata": {},
     "source": [
      "Analysis if the above example shows us the following:<br/>\n",
      "1. The for is the keyword to start the loop.<br/>\n",
      "2. counter is a variable that will contain the different values for the loop. With every increment in the loop, this value will change to reflect the current value inside the loop.<br/>\n",
      "3. in is what a person can call a membership operator. This means this word checks if whatever is in front of this keyword, is inside whatever follows.<br/>\n",
      "4. range is the boundaries for the loop. The first value is where the range start, the second value is where the range should stop. This value is not included, therefore the range always stop 1 value before. The last value is the increment for each loop. All three these values are always integer<br/>\n",
      "5. Thereafter, there is another indent, or one tab to indicate whatever comes next forms part of the loop.<br/>\n"
     ]
    },
    {
     "cell_type": "heading",
     "level": 2,
     "metadata": {},
     "source": [
      "Few important notes on loops"
     ]
    },
    {
     "cell_type": "markdown",
     "metadata": {},
     "source": [
      "1. The variable that contains the values inside the loop can only be an integer type or a single character. Float values cannot be accepted.\n",
      "2. The range can be of type integer, string, lists(array or a list of values which is similar).\n",
      "3. The default start is always 0, therefore; for counter in range(10): means that the loop will start at 0 and end at 9. Therefore 10 values."
     ]
    },
    {
     "cell_type": "code",
     "collapsed": false,
     "input": [
      "for letter in ('peter pan'):\n",
      "    print (letter)"
     ],
     "language": "python",
     "metadata": {},
     "outputs": [
      {
       "output_type": "stream",
       "stream": "stdout",
       "text": [
        "p\n",
        "e\n",
        "t\n",
        "e\n",
        "r\n",
        " \n",
        "p\n",
        "a\n",
        "n\n"
       ]
      }
     ],
     "prompt_number": 9
    },
    {
     "cell_type": "markdown",
     "metadata": {},
     "source": [
      ">From the above example, the for loop may be used in strings. However, the word range is not present. Range support only integer types, therefore range cannot be used in this example."
     ]
    },
    {
     "cell_type": "markdown",
     "metadata": {},
     "source": [
      "Example. Write a program that will display the square of the first ten numbers."
     ]
    },
    {
     "cell_type": "code",
     "collapsed": false,
     "input": [
      "for counter in range(1,11,1):\n",
      "    print ('The square of',counter,'is', counter * counter)"
     ],
     "language": "python",
     "metadata": {},
     "outputs": [
      {
       "output_type": "stream",
       "stream": "stdout",
       "text": [
        "The square of 1 is 1\n",
        "The square of 2 is 4\n",
        "The square of 3 is 9\n",
        "The square of 4 is 16\n",
        "The square of 5 is 25\n",
        "The square of 6 is 36\n",
        "The square of 7 is 49\n",
        "The square of 8 is 64\n",
        "The square of 9 is 81\n",
        "The square of 10 is 100\n"
       ]
      }
     ],
     "prompt_number": 13
    },
    {
     "cell_type": "markdown",
     "metadata": {},
     "source": [
      ">In this example the input is the counter that the program use to determine the output which is the answer. The process is the multiplication of the value by itself.  \n",
      "Input is the value from the loop variable.  \n",
      "Processing is the calculation of the value.  \n",
      "Output is the display line.  \n",
      "All of the above output, is done in two lines of code."
     ]
    },
    {
     "cell_type": "heading",
     "level": 2,
     "metadata": {},
     "source": [
      "Activity 13"
     ]
    },
    {
     "cell_type": "markdown",
     "metadata": {},
     "source": [
      "1. Display the following pattern:  \n",
      "\\*  \n",
      "\\*\\*  \n",
      "\\*\\*\\*  \n",
      "\\*\\*\\*\\*  \n",
      "\\*\\*\\*\\*\\*  \n",
      "\\*\\*\\*\\*\\*\\*  \n",
      "\\*\\*\\*\\*\\*  \n",
      "\\*\\*\\*\\*  \n",
      "\\*\\*\\*  \n",
      "\\*\\*  \n",
      "\\*  \n",
      "Use Multiplication with a string.\n",
      "\n",
      "2. Compound interest is where the bank pays interest on interest, provided that the user does not withdraw any money. In this program the user inputs the interest, initial amount, and time invested. The program must determine the final amount of the investment.\n",
      "\n",
      "3. Fibonacci is a sequence where a 0 and 1 starts. Add the two values together and the result is 1. Take the answer and add the last term the answer becomes 2. In short this is the sequence:\n",
      "0 1 1 2 3 5 8 13 21 ...\n",
      "Determine with a program the first 10 terms of the Fibonacci series.\n",
      "TIP: To print output next to each other instead of down use the following: \n",
      "print (counter, end='')"
     ]
    }
   ],
   "metadata": {}
  }
 ]
}