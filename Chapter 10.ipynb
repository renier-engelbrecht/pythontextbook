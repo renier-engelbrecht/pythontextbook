{
 "metadata": {
  "name": "",
  "signature": "sha256:25cf6cdce5418f1ece717b28a25d0d3a9077c7c31c8a7efb694a1dc54e9272b4"
 },
 "nbformat": 3,
 "nbformat_minor": 0,
 "worksheets": [
  {
   "cells": [
    {
     "cell_type": "heading",
     "level": 1,
     "metadata": {},
     "source": [
      "Chapter 10 - While loops"
     ]
    },
    {
     "cell_type": "markdown",
     "metadata": {},
     "source": [
      "Sometimes the user needs to repeat a loop, but does not know the exact amount of times the loop should repeat. For example, the user keys in an unknown amount of values. These values can be from one value to hundred values, or no values at all. The loop depends on the amount of data."
     ]
    },
    {
     "cell_type": "code",
     "collapsed": false,
     "input": [
      "inputvar = 1\n",
      "while (inputvar != 10): # the value is true, and when value turns false loop will stop\n",
      "    inputvar = int(input('Please enter a number. Enter 10 to stop'))\n",
      "    print (inputvar)\n",
      "    "
     ],
     "language": "python",
     "metadata": {},
     "outputs": [
      {
       "name": "stdout",
       "output_type": "stream",
       "stream": "stdout",
       "text": [
        "Please enter a number. Enter 10 to stop3\n"
       ]
      },
      {
       "output_type": "stream",
       "stream": "stdout",
       "text": [
        "3\n"
       ]
      },
      {
       "name": "stdout",
       "output_type": "stream",
       "stream": "stdout",
       "text": [
        "Please enter a number. Enter 10 to stop4\n"
       ]
      },
      {
       "output_type": "stream",
       "stream": "stdout",
       "text": [
        "4\n"
       ]
      },
      {
       "name": "stdout",
       "output_type": "stream",
       "stream": "stdout",
       "text": [
        "Please enter a number. Enter 10 to stop7\n"
       ]
      },
      {
       "output_type": "stream",
       "stream": "stdout",
       "text": [
        "7\n"
       ]
      },
      {
       "name": "stdout",
       "output_type": "stream",
       "stream": "stdout",
       "text": [
        "Please enter a number. Enter 10 to stop10\n"
       ]
      },
      {
       "output_type": "stream",
       "stream": "stdout",
       "text": [
        "10\n"
       ]
      }
     ],
     "prompt_number": 1
    },
    {
     "cell_type": "markdown",
     "metadata": {},
     "source": [
      ">From the example the user entered numbers, and when 10 was entered the program terminated."
     ]
    },
    {
     "cell_type": "markdown",
     "metadata": {},
     "source": [
      "Analysis of the program shows us the following:  \n",
      "1. Before the program enters the loop, there is always a value that is used in the loop to determine when the loop should terminate.  \n",
      "2. It is important that this value is initialised before entering the loop. No initialisation can cause the loop never to end.  \n",
      "While is the keyword to start the loop. The condition is inside round brackets. Use can be made of comparison operators and/or logical operators, to determine when the loop will stop.  \n",
      "3. the criteria starts off with a truth. In the case of the example, the inputvar does not equal 10, which is true. When the criteria turns false, the program will stop.  \n",
      "4. As with the other loops and the if statement, there is an indentation or tab to show that the code that follows form part of the loop.  \n",
      "5. Inside the loop the variable connected to the loop and that should change to eventually stop the loop, is changed. Failure to change this variable inside the loop will lead to the loop not stopping ever, or a never ending loop. Never ending loops, or infinite loops are disasterous and must be avoided.\n"
     ]
    },
    {
     "cell_type": "markdown",
     "metadata": {},
     "source": [
      "Here is an example of a popular question that uses loops to determine the total and average of an unknown amount of values. The input is terminated when the user enters a negative number."
     ]
    },
    {
     "cell_type": "code",
     "collapsed": false,
     "input": [
      "SumOfValues, AmountOfValues = 0, 0 #input\n",
      "value = int(input('Please enter a value. Enter a 0 to terminate: ')) # input\n",
      "while (value != 0 ):          #processing\n",
      "    SumOfValues += value      #processing\n",
      "    AmountOfValues += 1       #processing\n",
      "    value = int(input('Please enter a value. Enter a 0 to terminate: '))#input\n",
      "print ('The total of values entered', SumOfValues)                      # output\n",
      "print ('The Average of values entered', SumOfValues/(AmountOfValues))   #output\n",
      "print ('The amount of values entered', AmountOfValues)                  #output"
     ],
     "language": "python",
     "metadata": {},
     "outputs": []
    },
    {
     "cell_type": "code",
     "collapsed": false,
     "input": [
      "Please enter a value. Enter a 0 to terminate: 1\n",
      "Please enter a value. Enter a 0 to terminate: 2\n",
      "Please enter a value. Enter a 0 to terminate: 3\n",
      "Please enter a value. Enter a 0 to terminate: 4\n",
      "Please enter a value. Enter a 0 to terminate: 5\n",
      "Please enter a value. Enter a 0 to terminate: 6\n",
      "Please enter a value. Enter a 0 to terminate: 0\n",
      "The total of values entered 21\n",
      "The Average of values entered 3.5\n",
      "The amount of values entered 6"
     ],
     "language": "python",
     "metadata": {},
     "outputs": []
    },
    {
     "cell_type": "markdown",
     "metadata": {},
     "source": [
      "Examination of the example code and output is as follows:"
     ]
    },
    {
     "cell_type": "markdown",
     "metadata": {},
     "source": [
      "1. The amount of values and the total of the values read in, is initialised to 0. These two variables (SumOfValues, AmountOfValues) were used to add the values in the loop, and determine the amount of values read in, to help calculate the average.  \n",
      "2. Value is initialised before entering the loop, by an input in this instance. Please note, this variable must be changed inside the loop, to finally stop the loop.  \n",
      "3. while (value != 0): This statement is true, and as long as this statement is true, the loop will execute.  \n",
      "4. Inside the loop, after the indentation, the values of are changed. Note the variable, value is changed by the use of an input from the user. The others are used, either to increment the amount of values, and to increment the actual values read in by the user.  \n",
      "5. When the user enters 0, the top part of the loop will turn false, and the loop will not be executed anymore.  \n",
      "6. After the loop, where there is no indentation, there are three print statements. This means they do not form part of the loop. They print the values required from the question, but can only be done, once the loop finished entering all the data."
     ]
    },
    {
     "cell_type": "heading",
     "level": 2,
     "metadata": {},
     "source": [
      "Activity 14"
     ]
    },
    {
     "cell_type": "markdown",
     "metadata": {},
     "source": [
      "1. Write a short program to validate input. In this validation the numbers entered must be between 0 and 100. No other values are allowed. The program must continue, until a correct value is entered.<br/>\n",
      "2. The mathematics teacher would like you to write a program that will calculate the factors of a particular number. The user enters the number, and the program displays the factors of that number. Please include 1 and the number itself.<br/>\n",
      "3. Write a simulation game where the computer generates a random number. The random number must not be displayed. The user guess the number, with an input. IF the guessed number is to high, or to low, the user must enter a guess again. This process repeats until the user guesses the correct  number.<br/>\n",
      "4. Write a program that asks the user for three values. A starting balance, target balance, and the interest rate. Determine with a loop, how long it will take to achieve the target balance.<br/>\n",
      "5. Write a program where the user enters an unknown amount of words. The input of the program terminates when the user enters xxx. The program must display the amount of times the word three was entered."
     ]
    }
   ],
   "metadata": {}
  }
 ]
}