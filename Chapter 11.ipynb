{
 "metadata": {
  "name": "",
  "signature": "sha256:a88dc5def3752d6f0f7cb97dc6a0d5406b1ed356f64ea86d89bb4fcb7204a336"
 },
 "nbformat": 3,
 "nbformat_minor": 0,
 "worksheets": [
  {
   "cells": [
    {
     "cell_type": "heading",
     "level": 1,
     "metadata": {},
     "source": [
      "Chapter 11 - Nested Loops"
     ]
    },
    {
     "cell_type": "markdown",
     "metadata": {},
     "source": [
      "Sometimes one loop is not enough to achieve the required answer. Using a combination of different loops inside one another can achieve the required result. For example:<br/>\n",
      "1<br/>\n",
      "12<br/>\n",
      "123<br/>\n",
      "1234<br/>\n",
      "12345<br/>\n",
      "123456<br/>\n",
      "This is an example of where the use of one loop inside another loop can be used to achieve the selected result.\n"
     ]
    },
    {
     "cell_type": "code",
     "collapsed": false,
     "input": [
      "for outerloop in range(1,7):\n",
      "    for innerloop in range(1, outerloop+1):\n",
      "        print (innerloop, end='') # prints the numbers next to each other\n",
      "    print()#prints a new line"
     ],
     "language": "python",
     "metadata": {},
     "outputs": [
      {
       "output_type": "stream",
       "stream": "stdout",
       "text": [
        "1\n",
        "12\n",
        "123\n",
        "1234\n",
        "12345\n",
        "123456\n"
       ]
      }
     ],
     "prompt_number": 3
    },
    {
     "cell_type": "markdown",
     "metadata": {},
     "source": [
      ">In the example, the innerloop is dependent on the value of the outerloop. The outerloop determines the amount of rows that need to be printed. The innerloop runs from 1 to where the outerloop variable. This part of the loop writes the line in each case."
     ]
    },
    {
     "cell_type": "markdown",
     "metadata": {},
     "source": [
      "In another example, the user can enter the students surnames and all their names. As the user does not know how many students details are to be entered, use xxx to stop the input of all the data in the program. However, each name need to be entered separately. To stop the entry of the names, press stop. After each entry of the names, display the surname and names of the student."
     ]
    },
    {
     "cell_type": "code",
     "collapsed": false,
     "input": [
      "surname = input('Please enter a surname: ') #initialise outer loop\n",
      "while surname != 'xxx': #start of outer loop - condition\n",
      "    OutputToNames='' # intitialise the names to be written\n",
      "    name = input('Please enter a name: ')# initialise inner loop\n",
      "    while name != 'stop': # start of inner loop - condition\n",
      "        OutputToNames += name + ' ' # increment names\n",
      "        name = input('Please enter a name: ') #increment variable to stop inner loop\n",
      "    print ('Surname', surname, 'Names:', OutputToNames)#output to the screen\n",
      "    surname = input('Please enter a surname: ')  #increment to change variable to stop outer loop  "
     ],
     "language": "python",
     "metadata": {},
     "outputs": [
      {
       "name": "stdout",
       "output_type": "stream",
       "stream": "stdout",
       "text": [
        "Please enter a surname: Golding\n"
       ]
      },
      {
       "name": "stdout",
       "output_type": "stream",
       "stream": "stdout",
       "text": [
        "Please enter a name: Gary\n"
       ]
      },
      {
       "name": "stdout",
       "output_type": "stream",
       "stream": "stdout",
       "text": [
        "Please enter a name: Henry\n"
       ]
      },
      {
       "name": "stdout",
       "output_type": "stream",
       "stream": "stdout",
       "text": [
        "Please enter a name: stop\n"
       ]
      },
      {
       "output_type": "stream",
       "stream": "stdout",
       "text": [
        "Surname Golding Names: Gary Henry \n"
       ]
      },
      {
       "name": "stdout",
       "output_type": "stream",
       "stream": "stdout",
       "text": [
        "Please enter a surname: Mokoena\n"
       ]
      },
      {
       "name": "stdout",
       "output_type": "stream",
       "stream": "stdout",
       "text": [
        "Please enter a name: Ntabiseng\n"
       ]
      },
      {
       "name": "stdout",
       "output_type": "stream",
       "stream": "stdout",
       "text": [
        "Please enter a name: stop\n"
       ]
      },
      {
       "output_type": "stream",
       "stream": "stdout",
       "text": [
        "Surname Mokoena Names: Ntabiseng \n"
       ]
      },
      {
       "name": "stdout",
       "output_type": "stream",
       "stream": "stdout",
       "text": [
        "Please enter a surname: xxx\n"
       ]
      }
     ],
     "prompt_number": 3
    },
    {
     "cell_type": "markdown",
     "metadata": {},
     "source": [
      "In this example there are two while loops. Let us analyse the program:  \n",
      "1. Before entering a loop initialise the variable used as the condition of the loop.  \n",
      "2. The variable used inside the second loop to hold the data (OutputToName), is initialised before entering the loop. This is to help store the names that is entered in the second loop. Similar to adding up inside a loop, but in this instance, text is added.  \n",
      "3. Before entering the second loop initialise the variable used as the condition of the loop.  \n",
      "4. Inside the second loop the names are entered. Here the OutputToNames is incremented to show all the names read in.  \n",
      "5. Inside the second loop the name variable is incremented with data from the user to be able to stop the loop.  \n",
      "6. After the second loop, but still inside the first loop, the data is displayed, and the first loop condition variable is incremented, to be able to exit the loop."
     ]
    },
    {
     "cell_type": "heading",
     "level": 2,
     "metadata": {},
     "source": [
      "Activity 15"
     ]
    },
    {
     "cell_type": "markdown",
     "metadata": {},
     "source": [
      "Design a program that will produce a receipt for a shopkeeper. At the top of the receipt place the name of the business. The program must be able to take an unknown number of items. When the items are finished, type in xxx to stop.<br/>\n",
      "For all items typed in must show the amount of items bought, and the total price for those particular items.<br/>\n",
      "At the end of the receipt place the subtotal, VAT and final amount that need to be paid."
     ]
    }
   ],
   "metadata": {}
  }
 ]
}