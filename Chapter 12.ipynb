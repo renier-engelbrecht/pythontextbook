{
 "metadata": {
  "name": "",
  "signature": "sha256:92978c33c71c2f4699eb0d977f762394b8b56c1c5b6f1d6258f6155625b62e86"
 },
 "nbformat": 3,
 "nbformat_minor": 0,
 "worksheets": [
  {
   "cells": [
    {
     "cell_type": "heading",
     "level": 1,
     "metadata": {},
     "source": [
      "Chapter 12 - String Handling"
     ]
    },
    {
     "cell_type": "markdown",
     "metadata": {},
     "source": [
      "Strings are the most popular and simplest types in Python 3. A string is anything inside a single/double quote."
     ]
    },
    {
     "cell_type": "markdown",
     "metadata": {},
     "source": [
      "Since the start of the Python 3 course, there were strings, either in variables, or as part of the output. In this chapter, the focus is on creating, accessing and manipulating strings. Strings or text include all alphabet characters, capitals and small letters, numbers, and punctuation marks. The problem is that until recently, there were different character sets on computers, making it difficult to define a set to use universally in the world, let alone programming. The problem is that some alphabets such as the modern alphabet, consist of 26 letters, while other alphabets such as the Chinese alphabet consists of over 5,000 symbols.<br/>\n",
      "In modern day, there is a new scheme called UTF. This stands for Unicode Transformation Formats. In sort, Unicode is the format that is a standard on computers today. Unicode tries to set up one scheme for all living languages in the world. Unicode and UTF-8 is not the same thing. UTF-8 is a subset of Unicode. See all the charactersets at http://unicode-table.com/en/<br/>\n",
      "For more on UTF-8 and Unicode see http://www.diveintopython3.net/strings.html"
     ]
    },
    {
     "cell_type": "code",
     "collapsed": true,
     "input": [
      "stringline1 = 'Hi there Python'\n",
      "stringline2 = 'Python world of programming'\n",
      "print (stringline1, stringline2, 'Python rocks')"
     ],
     "language": "python",
     "metadata": {},
     "outputs": [
      {
       "output_type": "stream",
       "stream": "stdout",
       "text": [
        "Hi there Python Python world of programming Python rocks\n"
       ]
      }
     ],
     "prompt_number": 1
    },
    {
     "cell_type": "markdown",
     "metadata": {},
     "source": [
      "The user created two strings and displayed another in the print statement."
     ]
    },
    {
     "cell_type": "heading",
     "level": 2,
     "metadata": {},
     "source": [
      "Unicode Characters."
     ]
    },
    {
     "cell_type": "markdown",
     "metadata": {},
     "source": [
      "The traditional character set used in the west is found as the first 256 characters."
     ]
    },
    {
     "cell_type": "code",
     "collapsed": false,
     "input": [
      "for character in range(1,256):\n",
      "    print (chr(character), end=' ')"
     ],
     "language": "python",
     "metadata": {},
     "outputs": [
      {
       "output_type": "stream",
       "stream": "stdout",
       "text": [
        "\u0001 \u0002 \u0003 \u0004 \u0005 \u0006 \u0007 \b \t \n",
        " \u000b",
        " \f",
        " \r",
        " \u000e \u000f \u0010 \u0011 \u0012 \u0013 \u0014 \u0015 \u0016 \u0017 \u0018 \u0019 \u001a \u001b \u001c",
        " \u001d",
        " \u001e",
        " \u001f   ! \" # $ % & ' ( ) * + , - . / 0 1 2 3 4 5 6 7 8 9 : ; < = > ? @ A B C D E F G H I J K L M N O P Q R S T U V W X Y Z [ \\ ] ^ _ ` a b c d e f g h i j k l m n o p q r s t u v w x y z { | } ~ \u007f \u0080 \u0081 \u0082 \u0083 \u0084 \u0085",
        " \u0086 \u0087 \u0088 \u0089 \u008a \u008b \u008c \u008d \u008e \u008f \u0090 \u0091 \u0092 \u0093 \u0094 \u0095 \u0096 \u0097 \u0098 \u0099 \u009a \u009b \u009c \u009d \u009e \u009f \u00a0 \u00a1 \u00a2 \u00a3 \u00a4 \u00a5 \u00a6 \u00a7 \u00a8 \u00a9 \u00aa \u00ab \u00ac \u00ad \u00ae \u00af \u00b0 \u00b1 \u00b2 \u00b3 \u00b4 \u00b5 \u00b6 \u00b7 \u00b8 \u00b9 \u00ba \u00bb \u00bc \u00bd \u00be \u00bf \u00c0 \u00c1 \u00c2 \u00c3 \u00c4 \u00c5 \u00c6 \u00c7 \u00c8 \u00c9 \u00ca \u00cb \u00cc \u00cd \u00ce \u00cf \u00d0 \u00d1 \u00d2 \u00d3 \u00d4 \u00d5 \u00d6 \u00d7 \u00d8 \u00d9 \u00da \u00db \u00dc \u00dd \u00de \u00df \u00e0 \u00e1 \u00e2 \u00e3 \u00e4 \u00e5 \u00e6 \u00e7 \u00e8 \u00e9 \u00ea \u00eb \u00ec \u00ed \u00ee \u00ef \u00f0 \u00f1 \u00f2 \u00f3 \u00f4 \u00f5 \u00f6 \u00f7 \u00f8 \u00f9 \u00fa \u00fb \u00fc \u00fd \u00fe \u00ff "
       ]
      }
     ],
     "prompt_number": 17
    },
    {
     "cell_type": "markdown",
     "metadata": {},
     "source": [
      ">Characterset from Arabic subset."
     ]
    },
    {
     "cell_type": "code",
     "collapsed": false,
     "input": [
      "for character in range(1536,1791):\n",
      "    print (chr(character), end=' ')"
     ],
     "language": "python",
     "metadata": {},
     "outputs": [
      {
       "output_type": "stream",
       "stream": "stdout",
       "text": [
        "\u0600 \u0601 \u0602 \u0603 \u0604 \u0605 \u0606 \u0607 \u0608 \u0609 \u060a \u060b \u060c \u060d \u060e \u060f \u0610 \u0611 \u0612 \u0613 \u0614 \u0615 \u0616 \u0617 \u0618 \u0619 \u061a \u061b \u061c \u061d \u061e \u061f \u0620 \u0621 \u0622 \u0623 \u0624 \u0625 \u0626 \u0627 \u0628 \u0629 \u062a \u062b \u062c \u062d \u062e \u062f \u0630 \u0631 \u0632 \u0633 \u0634 \u0635 \u0636 \u0637 \u0638 \u0639 \u063a \u063b \u063c \u063d \u063e \u063f \u0640 \u0641 \u0642 \u0643 \u0644 \u0645 \u0646 \u0647 \u0648 \u0649 \u064a \u064b \u064c \u064d \u064e \u064f \u0650 \u0651 \u0652 \u0653 \u0654 \u0655 \u0656 \u0657 \u0658 \u0659 \u065a \u065b \u065c \u065d \u065e \u065f \u0660 \u0661 \u0662 \u0663 \u0664 \u0665 \u0666 \u0667 \u0668 \u0669 \u066a \u066b \u066c \u066d \u066e \u066f \u0670 \u0671 \u0672 \u0673 \u0674 \u0675 \u0676 \u0677 \u0678 \u0679 \u067a \u067b \u067c \u067d \u067e \u067f \u0680 \u0681 \u0682 \u0683 \u0684 \u0685 \u0686 \u0687 \u0688 \u0689 \u068a \u068b \u068c \u068d \u068e \u068f \u0690 \u0691 \u0692 \u0693 \u0694 \u0695 \u0696 \u0697 \u0698 \u0699 \u069a \u069b \u069c \u069d \u069e \u069f \u06a0 \u06a1 \u06a2 \u06a3 \u06a4 \u06a5 \u06a6 \u06a7 \u06a8 \u06a9 \u06aa \u06ab \u06ac \u06ad \u06ae \u06af \u06b0 \u06b1 \u06b2 \u06b3 \u06b4 \u06b5 \u06b6 \u06b7 \u06b8 \u06b9 \u06ba \u06bb \u06bc \u06bd \u06be \u06bf \u06c0 \u06c1 \u06c2 \u06c3 \u06c4 \u06c5 \u06c6 \u06c7 \u06c8 \u06c9 \u06ca \u06cb \u06cc \u06cd \u06ce \u06cf \u06d0 \u06d1 \u06d2 \u06d3 \u06d4 \u06d5 \u06d6 \u06d7 \u06d8 \u06d9 \u06da \u06db \u06dc \u06dd \u06de \u06df \u06e0 \u06e1 \u06e2 \u06e3 \u06e4 \u06e5 \u06e6 \u06e7 \u06e8 \u06e9 \u06ea \u06eb \u06ec \u06ed \u06ee \u06ef \u06f0 \u06f1 \u06f2 \u06f3 \u06f4 \u06f5 \u06f6 \u06f7 \u06f8 \u06f9 \u06fa \u06fb \u06fc \u06fd \u06fe "
       ]
      }
     ],
     "prompt_number": 7
    },
    {
     "cell_type": "heading",
     "level": 2,
     "metadata": {},
     "source": [
      "Creating, duplicating, concatenating."
     ]
    },
    {
     "cell_type": "markdown",
     "metadata": {},
     "source": [
      "Creating strings: string1 = 'hello Python 3'"
     ]
    },
    {
     "cell_type": "markdown",
     "metadata": {},
     "source": [
      "Duplicating strings: print ('hi there ' * 3)<br/>\n",
      "The output will be: hi there hi there hi there"
     ]
    },
    {
     "cell_type": "markdown",
     "metadata": {},
     "source": [
      "Concatenation is when two different strings are written as one.<br/>"
     ]
    },
    {
     "cell_type": "code",
     "collapsed": false,
     "input": [
      "string1 = 'Hello Python 3! '\n",
      "string2 = 'Python Rocks '\n",
      "print (string1 + string2 + 'always')"
     ],
     "language": "python",
     "metadata": {},
     "outputs": [
      {
       "output_type": "stream",
       "stream": "stdout",
       "text": [
        "Hello Python 3! Python Rocks always\n"
       ]
      }
     ],
     "prompt_number": 4
    },
    {
     "cell_type": "heading",
     "level": 2,
     "metadata": {},
     "source": [
      "Using for loop"
     ]
    },
    {
     "cell_type": "code",
     "collapsed": false,
     "input": [
      "Another way of accessing strings is to loop over the string and accessing each one on its own."
     ],
     "language": "python",
     "metadata": {},
     "outputs": []
    },
    {
     "cell_type": "code",
     "collapsed": false,
     "input": [
      "string1 = 'Hello Python 3!'\n",
      "counter = 0\n",
      "for letter in string1:#Iterate over the string\n",
      "    print (letter, '__', end='')#Prints the string in one line\n",
      "print()\n",
      "for number in string1:#Prints the index number of the string underneath\n",
      "    if counter >= 10:#When reaches 10 decrease the underscore to stay in line with previous\n",
      "        print (counter, '_',end='')\n",
      "    else:\n",
      "        print (counter, '__', end='')\n",
      "    counter += 1"
     ],
     "language": "python",
     "metadata": {},
     "outputs": [
      {
       "output_type": "stream",
       "stream": "stdout",
       "text": [
        "H __e __l __l __o __  __P __y __t __h __o __n __  __3 __! __\n",
        "0 __1 __2 __3 __4 __5 __6 __7 __8 __9 __10 _11 _12 _13 _14 _"
       ]
      }
     ],
     "prompt_number": 21
    },
    {
     "cell_type": "markdown",
     "metadata": {},
     "source": [
      "Analyse the previous code listing.  \n",
      "1. In the first loop the letters are printed next to each other. Therefore letter in the loop represents one letter of the string.  \n",
      "2. More important, each letter is assigned an index number in the string. This is why one can loop over a string. In the second part of the code listing a number is assigned to each letter. Take a look at the output.  \n",
      "3. Indexes in Python always starts at 0. Therefore the H which is at the start of the string is always assigned 0. Each letter is assigned an index."
     ]
    },
    {
     "cell_type": "heading",
     "level": 2,
     "metadata": {},
     "source": [
      "Slicing of strings."
     ]
    },
    {
     "cell_type": "markdown",
     "metadata": {},
     "source": [
      "Using the indices discovered in the above part, the user can manipulate, retrieve and change the content of strings.  ![image](pic3.png)\n",
      "\n",
      "  Slicing refers to taking a part of the string from a certain position to a certain position.  \n",
      "  As seen from figure 3, the positions are between the letters and not on top of the letters. This works for slicing where there is a start and an end selection. Where there is only one slice selection, use the index of the character.  The negative numbers work from right to left, from before the last letter, to after the first letter.  \n",
      "  The positive numbers are from before the first letter to after the last letter.  \n",
      "  This indicates where the slices will take place. Remember, slicing takes place between characters, not on characters!  \n",
      "  First type of slice is square brackets [position only]  \n",
      "  Second type of slice looks as follows: [start position: end position]  \n",
      "  There is an extended slice: [start position, end position, stride]  \n",
      "  If one of the positions are left blank, this indicates to the end of the string."
     ]
    },
    {
     "cell_type": "code",
     "collapsed": false,
     "input": [
      "string1 = 'Peter Pan'\n",
      "print (string1[:]) # Returns the complete string\n",
      "print (string1[:5])# returns from the start of the string to the 5th slice\n",
      "print (string1[6:])# returns from the start of the 6th slice\n",
      "print (string1[2:8])#returns inside the string\n",
      "print (string1[-7:-5])#Starts at the end of the string and works back\n",
      "print (string1[-5:-1])\n",
      "#using the index only as a slice\n",
      "print (string1[0]+ string1[6])#Combines two separate letters. Does not use slicing!!!\n",
      "print (string1, string1[1]+string1[7]+string1[2])#Peter Pan eat\n",
      "#using the extended slice\n",
      "print (string1[::-1])#extended slice, with a negative step. Show string backwards\n",
      "print (string1[0:5:2])#Extended slice. selects only second character in the range\n",
      "string2 = 'P'\n",
      "print (string2 in string1)# returns true is the element is present\n",
      "string3 = 'Peter \\n Pan'\n",
      "print (string3)# prints the string in two lines"
     ],
     "language": "python",
     "metadata": {},
     "outputs": [
      {
       "output_type": "stream",
       "stream": "stdout",
       "text": [
        "Peter Pan\n",
        "Peter\n",
        "Pan\n",
        "ter Pa\n",
        "te\n",
        "r Pa\n",
        "PP\n",
        "Peter Pan eat\n",
        "naP reteP\n",
        "Ptr\n",
        "True\n",
        "Peter \n",
        " Pan\n"
       ]
      }
     ],
     "prompt_number": 25
    },
    {
     "cell_type": "heading",
     "level": 2,
     "metadata": {},
     "source": [
      "Insert a character(s) into a string."
     ]
    },
    {
     "cell_type": "markdown",
     "metadata": {},
     "source": [
      "There is no method to insert a substring into a string. However, with slicing the user can insert a character(s) into a current string."
     ]
    },
    {
     "cell_type": "code",
     "collapsed": false,
     "input": [
      "softwarekey = '45GYHFFFGH654HN'\n",
      "softwarekey = softwarekey[:5] + '-' + softwarekey[5:]#insert a character in the fith index\n",
      "print (softwarekey)\n",
      "softwarekey = softwarekey[:11] + '-' + softwarekey[11:]#insert a character in the 11th index\n",
      "print (softwarekey)"
     ],
     "language": "python",
     "metadata": {},
     "outputs": [
      {
       "output_type": "stream",
       "stream": "stdout",
       "text": [
        "45GYH-FFFGH654HN\n",
        "45GYH-FFFGH-654HN\n"
       ]
      }
     ],
     "prompt_number": 7
    },
    {
     "cell_type": "heading",
     "level": 2,
     "metadata": {},
     "source": [
      "Escape Characters in Strings."
     ]
    },
    {
     "cell_type": "markdown",
     "metadata": {},
     "source": [
      "These are characters that have a special meaning in Python. For example \\n is a line feed, which means the cursor will go to the next line. In Python 3, single and double quotes are used to donate a string. What if the user wants to insert a single or double quote in the string?<br/>\n",
      "Use the escape character \\' for single quote and \\\" for double quote."
     ]
    },
    {
     "cell_type": "code",
     "collapsed": false,
     "input": [
      "print ('Jason\\'s stable')#single quote \\'\n",
      "print ('\\\"To the boats!\\\" he exclaimed')# double quote \\\"\n",
      "print ('This is a \\t Tab')# tab \\t"
     ],
     "language": "python",
     "metadata": {},
     "outputs": [
      {
       "output_type": "stream",
       "stream": "stdout",
       "text": [
        "Jason's stable\n",
        "\"To the boats!\" he exclaimed\n",
        "This is a \t Tab\n"
       ]
      }
     ],
     "prompt_number": 29
    },
    {
     "cell_type": "heading",
     "level": 2,
     "metadata": {},
     "source": [
      "Formatting text and numbers."
     ]
    },
    {
     "cell_type": "markdown",
     "metadata": {},
     "source": [
      "Formatting of output is important, as this plays an important role in how the user perceive the program. Well formatted output goes a long way to convey the correct message. Values displayed as currency or scientific notation, is important as this show a professional approach to programming.<br/>\n",
      "The following are examples of formatting of numbers:<br/>\n",
      "The general formatting is in the string there must be a % sign followed by the type of formatting.<br/>\n",
      "Examples:"
     ]
    },
    {
     "cell_type": "code",
     "collapsed": false,
     "input": [
      "string1 = 'Python 3'\n",
      "string2 = int(2020)\n",
      "print ('Hi there %s' % string1) #formats the string into the sentence.\n",
      "print ('Here we come %s' % string2) #Formats the number into the sentence as a string\n",
      "print ('Decimal formatting')\n",
      "print ('There are %02d geese in the dam' % 2)#two padding to the left\n",
      "print ('There are %02d geese in the dam' % 12)#two padding to the left\n",
      "answervalue = 20.35613\n",
      "print ('Your answer is: %10.4f' %answervalue)#10 digit padding with 4 after decimal\n",
      "\n",
      "\n"
     ],
     "language": "python",
     "metadata": {},
     "outputs": [
      {
       "output_type": "stream",
       "stream": "stdout",
       "text": [
        "Hi there Python 3\n",
        "Here we come 2020\n",
        "Decimal formatting\n",
        "There are 02 geese in the dam\n",
        "There are 12 geese in the dam\n",
        "Your answer is:    20.3561\n",
        "Your answer is:    20.3561\n"
       ]
      }
     ],
     "prompt_number": 50
    },
    {
     "cell_type": "markdown",
     "metadata": {},
     "source": [
      "The format() function can do all this in one command.\n",
      "The format() function has the following parameters.<br/> '[[fill]align][sign][#][0][,][.precision][type]<br/>\n",
      "fill = any type of characters. For currency the currency prefix or any character(s).<br/>\n",
      "align = < - left-aligned, > - right-aligned, ^ - centered, = - forces the padding to be placed after the sign, but before the digits.<br/>\n",
      "sign = +, -, ' '<br/>\n",
      "width = the minimum amount of digits for the whole format. If omitted will be the width of the answer.<br/>\n",
      ", = Thousands separator<br/>\n",
      ".precision = Amount of decimals after the decimal point. Only for use with f and F.<br/>\n",
      "type = s - string, f/F - float, d - decimal, e/E(uppercase) - exponent, % - percentage.<br>"
     ]
    },
    {
     "cell_type": "code",
     "collapsed": false,
     "input": [
      "print ('Here is the answer: {:}'.format(1245))# fill any type of character(s)\n",
      "print ('{:<30}'.format(4532.34))#Left format 30 spaces\n",
      "print ('{:>30}'.format(4532.34))#Right format 30 spaces\n",
      "print ('{:^30}'.format(4532.34))#Centre format 30 spaces\n",
      "print ('{:+}'.format(4532.34))#Add the + before a positive number\n",
      "print ('{:-}'.format(-4532.34))#Add a - to negative numbers\n",
      "print ('{:20,.1f}'.format(4532.34))#20 spaces, , thousands separator .1 decimal float\n",
      "salary = 12500\n",
      "print ('Your salary is','R {:,.2F}'.format(salary))#R before the format, thousands separator\n",
      "                                                    #2 decimal precision for float\n",
      "print ('Percentage is','{:,.3%}'.format(81/120))#percentage multiplies the answer with 100\n"
     ],
     "language": "python",
     "metadata": {},
     "outputs": [
      {
       "output_type": "stream",
       "stream": "stdout",
       "text": [
        "Here is the answer: 1245\n",
        "4532.34                       \n",
        "                       4532.34\n",
        "           4532.34            \n",
        "+4532.34\n",
        "-4532.34\n",
        "             4,532.3\n",
        "Your salary is R 12,500.00\n",
        "Percentage is 67.500%\n"
       ]
      }
     ],
     "prompt_number": 110
    },
    {
     "cell_type": "heading",
     "level": 2,
     "metadata": {},
     "source": [
      "Replacing/deleting character(s) in a string."
     ]
    },
    {
     "cell_type": "markdown",
     "metadata": {},
     "source": [
      "The user can replace/delete a character(s) in a string using the replace function. See the example below."
     ]
    },
    {
     "cell_type": "code",
     "collapsed": false,
     "input": [
      "string1 = 'my value'\n",
      "string1 = string1.replace('m', 'v')#replace in a string\n",
      "print (string1)\n",
      "string1 = string1.replace('v', '123')#Replace in a string\n",
      "print (string1)\n",
      "string1 = string1.replace('123', '')#delete from a string\n",
      "print (string1)"
     ],
     "language": "python",
     "metadata": {},
     "outputs": [
      {
       "output_type": "stream",
       "stream": "stdout",
       "text": [
        "vy value\n",
        "123y 123alue\n",
        "y alue\n"
       ]
      }
     ],
     "prompt_number": 9
    },
    {
     "cell_type": "heading",
     "level": 2,
     "metadata": {},
     "source": [
      "Find character(s) in a string."
     ]
    },
    {
     "cell_type": "markdown",
     "metadata": {},
     "source": [
      "the user can find a specific character(s) in a string and return the start index of that character(s).<br/>\n",
      "The function is as follows - variable/value.find(character(s) to find)<br/>\n",
      "If the function returns a -1 this indicates that the search did not find anything of the search.<br/>"
     ]
    },
    {
     "cell_type": "code",
     "collapsed": false,
     "input": [
      "string1 = 'Find the word Python'\n",
      "print ('index where the word Python starts', string1.find('Python'))\n",
      "print ('index where the letter w starts', string1.find('w'))\n",
      "print ('index where the letter z starts', string1.find('z'))\n"
     ],
     "language": "python",
     "metadata": {},
     "outputs": [
      {
       "output_type": "stream",
       "stream": "stdout",
       "text": [
        "index where the word Python starts 14\n",
        "index where the letter w starts 9\n",
        "index where the letter z starts -1\n"
       ]
      }
     ],
     "prompt_number": 1
    },
    {
     "cell_type": "heading",
     "level": 2,
     "metadata": {},
     "source": [
      "Other string functions."
     ]
    },
    {
     "cell_type": "markdown",
     "metadata": {},
     "source": [
      "Other functions include conversion between upper and lower case, returning the length of strings. For a complete list of Python 3 string functions consult: https://docs.python.org/3.4/library/string.html"
     ]
    },
    {
     "cell_type": "code",
     "collapsed": false,
     "input": [
      "string1 = 'this is a sentence in a paragraph all lowercase'\n",
      "string2 = 'THIS IS A SENTENCE IN A PARAGRAPH ALL UPPERCASE'\n",
      "print (string1.capitalize())#capitalises teh first letter in a string\n",
      "print (string1.title())# every word starts with a capital\n",
      "print (string1.upper())# convert lowercase to uppercase\n",
      "print (string2.lower())# convert characters to lowercase\n",
      "print ('the length of string1 is',len(string1)) # returns the length of the string\n"
     ],
     "language": "python",
     "metadata": {},
     "outputs": [
      {
       "output_type": "stream",
       "stream": "stdout",
       "text": [
        "This is a sentence in a paragraph all lowercase\n",
        "This Is A Sentence In A Paragraph All Lowercase\n",
        "THIS IS A SENTENCE IN A PARAGRAPH ALL LOWERCASE\n",
        "this is a sentence in a paragraph all uppercase\n",
        "the length of string1 is 47\n"
       ]
      }
     ],
     "prompt_number": 19
    },
    {
     "cell_type": "heading",
     "level": 2,
     "metadata": {},
     "source": [
      "Activity 16"
     ]
    },
    {
     "cell_type": "markdown",
     "metadata": {},
     "source": [
      "1. Write a program that generates a password based on the input that the user enters on the keyboard. The password generated from the input works as follows:<br/>\n",
      "1.1. The criteria is as follows. First letter must be a capital.<br/>\n",
      "1.2. Replace the following characters: a, e, o, u, i with the @ sign.<br/>\n",
      "1.3. Replace the following characters as follows: b with a 6, s with a 5.<br/>\n",
      "1.4. Add the following values at the end of the string - &123.<br/>\n",
      "1.5. Display the old word and the new word.<br/>\n",
      "\n",
      "2. Old telephone exchanges in your country is being upgraded to accommodate expanding telephone network. As consequence digits are added to current telephone numbers. The user enters a telephone number in the format (045)678-1234 and the number is changed as follows.<br/>\n",
      "2.1. The digits between the brackets must include a new digit at the end, that is the same as the middle number. In our example; 045 becomes 0454<br/>\n",
      "2.2. The three digits after the brackets must be changed as follows: digit one must fall away, digit 2 must be repeated in front of itself. Therefore for our example the digits will display as follows: 778.<br/>\n",
      "2.3. Last four digits stays the same.<br/>\n",
      "2.4. Display the old and new number. (045)678-1234 -> (0454)778-1234<br/>\n",
      "3. Write a program where a user registers for a convention. The user enters a 13 digit identity number.<br/>\n",
      "3.1. The identity number is arranged as follows(yymmdd) for the first six numbers.<br/>\n",
      "3.2. The next four letters (0000 - 4999), (5000 - 9999) represents of the person is male or female. From 0000 to 4999 represents female, and 5000-9999 represents male.<br/>\n",
      "3.3. The next digit is either a 0, citizen of that country, or 1, non-citizen of that country. The last two digits are control numbers and not required by the calculation.<br/>\n",
      "3.4. The program takes the month digits and convert them to a month such as January, etc.<br/>\n",
      "3.5. Use the digits of male and female, to determine the gender and print either male or female.<br/>\n",
      "3.6. Lastly determine if the user is a citizen. The output should be citizen, or non-citizen.<br/>\n",
      "3.7. The output should be as follows:<br/>\n",
      "ID: 7801234034081<br/>\n",
      "Birthday: 23 January<br/>\n",
      "Gender: Female<br/>\n",
      "Citizen<br/>\n",
      "\n",
      "\n",
      "\n"
     ]
    }
   ],
   "metadata": {}
  }
 ]
}