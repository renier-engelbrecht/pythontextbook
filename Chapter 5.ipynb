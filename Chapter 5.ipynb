{
 "metadata": {
  "name": "",
  "signature": "sha256:281c821a237fced4c600f2f52770e92b0c4ded4cbc962f68833a56dfc1629666"
 },
 "nbformat": 3,
 "nbformat_minor": 0,
 "worksheets": [
  {
   "cells": [
    {
     "cell_type": "heading",
     "level": 1,
     "metadata": {},
     "source": [
      "Chapter 5 - Some more Maths"
     ]
    },
    {
     "cell_type": "markdown",
     "metadata": {},
     "source": [
      "One of Pythons strengths is the way Mathematical functions can be used. To provide additional mathematical functions the user can import the maths module. Modules are additional functionality that comes with Python 3, but not loaded when a program starts. This is to keep memory usage to a minimum.<br/>\n",
      "There are different modules, os, sys, etc. In this example the chapter is going to focus on the maths module."
     ]
    },
    {
     "cell_type": "code",
     "collapsed": false,
     "input": [
      "import math # This is usually at the top before the program starts and uses the keyword import then the module name"
     ],
     "language": "python",
     "metadata": {},
     "outputs": [],
     "prompt_number": 2
    },
    {
     "cell_type": "code",
     "collapsed": false,
     "input": [
      "math.pi #calls the pi function in the program"
     ],
     "language": "python",
     "metadata": {},
     "outputs": [
      {
       "metadata": {},
       "output_type": "pyout",
       "prompt_number": 3,
       "text": [
        "3.141592653589793"
       ]
      }
     ],
     "prompt_number": 3
    },
    {
     "cell_type": "code",
     "collapsed": false,
     "input": [
      "math.sqrt(81) # returns the square root of 81"
     ],
     "language": "python",
     "metadata": {},
     "outputs": [
      {
       "metadata": {},
       "output_type": "pyout",
       "prompt_number": 4,
       "text": [
        "9.0"
       ]
      }
     ],
     "prompt_number": 4
    },
    {
     "cell_type": "code",
     "collapsed": false,
     "input": [
      "math.pow(2, 3) # returns 2 to the power of 3 which is 8"
     ],
     "language": "python",
     "metadata": {},
     "outputs": [
      {
       "metadata": {},
       "output_type": "pyout",
       "prompt_number": 6,
       "text": [
        "8.0"
       ]
      }
     ],
     "prompt_number": 6
    },
    {
     "cell_type": "code",
     "collapsed": false,
     "input": [
      "math.trunc(55.56) # cuts off all values after the decimal"
     ],
     "language": "python",
     "metadata": {},
     "outputs": [
      {
       "metadata": {},
       "output_type": "pyout",
       "prompt_number": 7,
       "text": [
        "55"
       ]
      }
     ],
     "prompt_number": 7
    },
    {
     "cell_type": "code",
     "collapsed": false,
     "input": [
      "round(55.56,1) # This does not form part of the math function, but done here to see the difference between trunc and round"
     ],
     "language": "python",
     "metadata": {},
     "outputs": [
      {
       "metadata": {},
       "output_type": "pyout",
       "prompt_number": 9,
       "text": [
        "55.6"
       ]
      }
     ],
     "prompt_number": 9
    },
    {
     "cell_type": "heading",
     "level": 2,
     "metadata": {},
     "source": [
      "Activity 8"
     ]
    },
    {
     "cell_type": "markdown",
     "metadata": {},
     "source": [
      "1. Write a short program that asks the user to enter the radius of a circle. Work out the circumference and area of the circle and display with a message"
     ]
    },
    {
     "cell_type": "heading",
     "level": 2,
     "metadata": {},
     "source": [
      "Random"
     ]
    },
    {
     "cell_type": "markdown",
     "metadata": {},
     "source": [
      "Random is another module that the user can import to use. Sometimes the user want to use random numbers to generate values for certain situations. Random is used as follows:"
     ]
    },
    {
     "cell_type": "code",
     "collapsed": false,
     "input": [
      "import random\n",
      "import math\n",
      "print (random.randint(0,10)) # returns a random value between 0 and 10, 0 and 10 included\n",
      "print (random.random()) # returns a random value between 0 and 1\n",
      "print (math.trunc(random.random()*10)) #returns a value beteen 1 and 5"
     ],
     "language": "python",
     "metadata": {},
     "outputs": [
      {
       "output_type": "stream",
       "stream": "stdout",
       "text": [
        "6\n",
        "0.8559869234608938\n",
        "2\n"
       ]
      }
     ],
     "prompt_number": 24
    },
    {
     "cell_type": "markdown",
     "metadata": {},
     "source": [
      ">There are two types of random. The first random.randint(0,10) returns an integer number between to numbers. The second one random.randion() returns a value between 0 and 1, and if multiplied by a number, using trunc to make the number integer, can generate large numbers."
     ]
    },
    {
     "cell_type": "markdown",
     "metadata": {},
     "source": [
      "Another type of math is repetition of strings. Although it seems it cannot be done Python 3 can do the following:"
     ]
    },
    {
     "cell_type": "code",
     "collapsed": false,
     "input": [
      "value = 5\n",
      "greeting = 'Hi there '\n",
      "print ('Greeting 1:',greeting * value)\n",
      "value = 0\n",
      "print ('Greeting 2:',greeting * value)"
     ],
     "language": "python",
     "metadata": {},
     "outputs": [
      {
       "output_type": "stream",
       "stream": "stdout",
       "text": [
        "Greeting 1: Hi there Hi there Hi there Hi there Hi there \n",
        "Greeting 2: \n"
       ]
      }
     ],
     "prompt_number": 8
    },
    {
     "cell_type": "code",
     "collapsed": false,
     "input": [
      "value=5\n",
      "greeting = 'Hi there\\n' # \\n creates an enter and the next print will start on a new line\n",
      "print (greeting * value)"
     ],
     "language": "python",
     "metadata": {},
     "outputs": [
      {
       "output_type": "stream",
       "stream": "stdout",
       "text": [
        "Hi there\n",
        "Hi there\n",
        "Hi there\n",
        "Hi there\n",
        "Hi there\n",
        "\n"
       ]
      }
     ],
     "prompt_number": 11
    },
    {
     "cell_type": "heading",
     "level": 2,
     "metadata": {},
     "source": [
      "Activity 9"
     ]
    },
    {
     "cell_type": "markdown",
     "metadata": {},
     "source": [
      "Complete the following pattern:  \n",
      "\\*  \n",
      "\\*\\*\\*  \n",
      "\\*\\*\\*\\*\\*  \n",
      "\\*\\*\\*  \n",
      "\\*  \n",
      "Use the above example to multiply and increase a value. Use only two variables for this problem, printvalue = '*' and value = 1\n",
      "    "
     ]
    },
    {
     "cell_type": "code",
     "collapsed": false,
     "input": [],
     "language": "python",
     "metadata": {},
     "outputs": []
    }
   ],
   "metadata": {}
  }
 ]
}