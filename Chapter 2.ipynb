{
 "metadata": {
  "name": "",
  "signature": "sha256:7f14ff3854700c70d2dbf42e65356e5aa224786b7aff2fe9e05f26bd9cf0b4d2"
 },
 "nbformat": 3,
 "nbformat_minor": 0,
 "worksheets": [
  {
   "cells": [
    {
     "cell_type": "heading",
     "level": 1,
     "metadata": {},
     "source": [
      "Chapter 2 - Operators"
     ]
    },
    {
     "cell_type": "markdown",
     "metadata": {},
     "source": [
      "In chapter 1 we focused on writing programs where the user can interact with the computer, in setting variables for numbers and strings. In this chapter the focus is on calculations."
     ]
    },
    {
     "cell_type": "heading",
     "level": 2,
     "metadata": {},
     "source": [
      "Arithmetic Operators"
     ]
    },
    {
     "cell_type": "markdown",
     "metadata": {},
     "source": [
      "A table with all the operators:"
     ]
    },
    {
     "cell_type": "raw",
     "metadata": {},
     "source": [
      " <table style = \"border: 1px solid black;text-align:left;border-collapse: collapse;\">\n",
      "<tr style = \"border: 1px solid black;text-align:left\">\n",
      "  <th style = \"border: 1px solid black;text-align:center\">Operator</th>\n",
      "  <th style = \"border: 1px solid black;text-align:center\">Description</th>\n",
      "  <th style = \"border: 1px solid black;text-align:center\">Example</th>\n",
      "</tr>\n",
      "<tr style = \"border: 1px solid black;text-align:left\">\n",
      "  <td style = \"border: 1px solid black;text-align:center;height:50px\">+</td>\n",
      "  <td style = \"border: 1px solid black;text-align:center\">Addition - Adds Values</td>\n",
      "  <td style = \"border: 1px solid black;text-align:center; width:300px\">a + b = 10 + 20 will give 30</td>\n",
      "</tr>\n",
      "<tr style = \"border: 1px solid black;text-align:left\">\n",
      "  <td style = \"border: 1px solid black;text-align:center;height:50px\">-</td>\n",
      "  <td style = \"border: 1px solid black;text-align:center\">Subtraction - Subtracts Values</td>\n",
      "  <td style = \"border: 1px solid black;text-align:center\">a - b = 10 - 20 will give -10</td>\n",
      "</tr>\n",
      "<tr style = \"border: 1px solid black;text-align:left\">\n",
      "  <td style = \"border: 1px solid black;text-align:center;height:50px\">*</td>\n",
      "  <td style = \"border: 1px solid black;text-align:center\">Multiplication - Multiplies Values</td>\n",
      "  <td style = \"border: 1px solid black;text-align:center\">a * b = 10 * 20 will give 200</td>\n",
      "</tr>\n",
      "\n",
      "<tr style = \"border: 1px solid black;text-align:left\">\n",
      "  <td style = \"border: 1px solid black;text-align:center;height:50px\">/</td>\n",
      "  <td style = \"border: 1px solid black;text-align:center\">Division - Divides Values</td>\n",
      "  <td style = \"border: 1px solid black;text-align:center\">a + b = 10 / 20 will give 0.5</td>\n",
      "</tr>\n",
      "<tr style = \"border: 1px solid black;text-align:left\">\n",
      "  <td style = \"border: 1px solid black;text-align:center;height:50px\">%</td>\n",
      "  <td style = \"border: 1px solid black;text-align:center\">modulus - divides and returns the remainder</td>\n",
      "  <td style = \"border: 1px solid black;text-align:center\">a % b = 10 % 20 will give 10</td>\n",
      "</tr>\n",
      "<tr style = \"border: 1px solid black;text-align:left\">\n",
      "  <td style = \"border: 1px solid black;text-align:center;height:50px\">//</td>\n",
      "  <td style = \"border: 1px solid black;text-align:center\">Floor Division - returns integer division no remainder</td>\n",
      "  <td style = \"border: 1px solid black;text-align:center\">a // b = 10 // 20 will give 0</td>\n",
      "</tr>\n",
      "<tr style = \"border: 1px solid black;text-align:left\">\n",
      "  <td style = \"border: 1px solid black;text-align:center;height:50px\">**</td>\n",
      "  <td style = \"border: 1px solid black;text-align:center\">Power - returns the power of a value to another value</td>\n",
      "    <td style = \"border: 1px solid black;text-align:center\">a ** b = 10 ** 20 will give <br/>100 000 000 000 000 000 000</td>\n",
      "</tr>\n",
      "</table>"
     ]
    },
    {
     "cell_type": "markdown",
     "metadata": {},
     "source": [
      "Python uses BODMAS to calculate values. Enter the following examples:"
     ]
    },
    {
     "cell_type": "code",
     "collapsed": false,
     "input": [
      "#This is commentary tag. Everything written here will not show Commentary starts with a #\n",
      "bodmastest = 1+2*3\n",
      "VAT = 45 - 45 *14/100\n",
      "NewSalary = 12500 + 12500*10/100\n",
      "remainder = 10 % 3 # Commentary 10 divided by 3 is 3 and 1/3 therefore the answer is 1\n",
      "floorDivision = 10 //3 # Commentary 10 divided by 3 gives 3 and 1/3 therefore the answer is 3\n",
      "\n",
      "print (bodmastest)\n",
      "print (VAT)\n",
      "print ('New Salary:',NewSalary)\n",
      "print (remainder)\n",
      "print (floorDivision)"
     ],
     "language": "python",
     "metadata": {},
     "outputs": [
      {
       "output_type": "stream",
       "stream": "stdout",
       "text": [
        "7\n",
        "38.7\n",
        "New Salary: 13750.0\n",
        "1\n",
        "3\n"
       ]
      }
     ],
     "prompt_number": 33
    },
    {
     "cell_type": "heading",
     "level": 2,
     "metadata": {},
     "source": [
      "Assignment Operators"
     ]
    },
    {
     "cell_type": "markdown",
     "metadata": {},
     "source": [
      "The assignment operator that is well known is the = sign. For example thisvalue = 10, means the user assigns 10 to the variable thisvalue. Python has other assignment operators, that together with the = sign can do much more than just assign values to variables."
     ]
    },
    {
     "cell_type": "raw",
     "metadata": {},
     "source": [
      " <table style = \"border: 1px solid black;text-align:left;border-collapse: collapse;\">\n",
      "<tr style = \"border: 1px solid black;text-align:left\">\n",
      "  <th style = \"border: 1px solid black;text-align:center\">Operator</th>\n",
      "  <th style = \"border: 1px solid black;text-align:center\">Description</th>\n",
      "  <th style = \"border: 1px solid black;text-align:center\">Example</th>\n",
      "</tr>\n",
      "<tr style = \"border: 1px solid black;text-align:left\">\n",
      "  <td style = \"border: 1px solid black;text-align:center;height:50px\">=</td>\n",
      "  <td style = \"border: 1px solid black;text-align:center\">Assigns values from the right side to the left side</td>\n",
      "  <td style = \"border: 1px solid black;text-align:center; width:500px\">c = a + b means c = a + b</td>\n",
      "</tr>\n",
      "<tr style = \"border: 1px solid black;text-align:left\">\n",
      "  <td style = \"border: 1px solid black;text-align:center;height:50px\">+=</td>\n",
      "  <td style = \"border: 1px solid black;text-align:center\">Add the previous value of the left to the value on the right and assign the answer to the left variable</td>\n",
      "  <td style = \"border: 1px solid black;text-align:center\">c+= a means c = c + a</td>\n",
      "</tr>\n",
      "<tr style = \"border: 1px solid black;text-align:left\">\n",
      "  <td style = \"border: 1px solid black;text-align:center;height:50px\">-=</td>\n",
      "  <td style = \"border: 1px solid black;text-align:center\">Subtracts the value on the right from the value on the left and assign the answer to the left variable</td>\n",
      "  <td style = \"border: 1px solid black;text-align:center\">c-= a means c = c - a</td>\n",
      "</tr>\n",
      "\n",
      "<tr style = \"border: 1px solid black;text-align:left\">\n",
      "  <td style = \"border: 1px solid black;text-align:center;height:50px\">*=</td>\n",
      "  <td style = \"border: 1px solid black;text-align:center\">Multiplies the left value with the right value, and assign the answer to the left variable</td>\n",
      "  <td style = \"border: 1px solid black;text-align:center\">c *= a means c = c * a</td>\n",
      "</tr>\n",
      "<tr style = \"border: 1px solid black;text-align:left\">\n",
      "  <td style = \"border: 1px solid black;text-align:center;height:50px\">/=</td>\n",
      "  <td style = \"border: 1px solid black;text-align:center\">Divide the left value by the right value and assign the answer to the left variable</td>\n",
      "  <td style = \"border: 1px solid black;text-align:center\">c /= a means c = c / a</td>\n",
      "</tr>\n",
      "<tr style = \"border: 1px solid black;text-align:left\">\n",
      "  <td style = \"border: 1px solid black;text-align:center;height:50px\">**=</td>\n",
      "  <td style = \"border: 1px solid black;text-align:center\">Exponent. Takes the value from the left side, and performs power calculation to the value on the left side with the value on the right side. Answer is written back to the left variable.</td>\n",
      "  <td style = \"border: 1px solid black;text-align:center\">a // b = 10 // 20 will give 0</td>\n",
      "</tr>\n",
      "</table>"
     ]
    },
    {
     "cell_type": "markdown",
     "metadata": {},
     "source": [
      "Take a look at the following examples for Assignment Operators"
     ]
    },
    {
     "cell_type": "code",
     "collapsed": false,
     "input": [
      "value1, value2 = 10, 2 # assigns more than one value to different variables at the same time\n",
      "value1 += value2\n",
      "print (value1)\n",
      "\n",
      "value1, value2 = 10,2\n",
      "value1 -= value2\n",
      "print (value1)\n",
      "\n",
      "value1, value2 = 10, 2\n",
      "value1 *= value2\n",
      "print (value1)\n",
      "\n",
      "value1, value2 - 10, 2\n",
      "value1 /= value2\n",
      "print (value1)\n",
      "\n",
      "value1, value2 = 10, 2 \n",
      "value1 **= value2\n",
      "print (value1)"
     ],
     "language": "python",
     "metadata": {},
     "outputs": [
      {
       "output_type": "stream",
       "stream": "stdout",
       "text": [
        "12\n",
        "8\n",
        "20\n",
        "10.0\n",
        "100\n"
       ]
      }
     ],
     "prompt_number": 31
    },
    {
     "cell_type": "heading",
     "level": 3,
     "metadata": {},
     "source": [
      "Activity 5"
     ]
    },
    {
     "cell_type": "markdown",
     "metadata": {},
     "source": [
      "Find answers to the following: In each instance value1 = 10, value2 = 2.5 and value3 = 2:\n",
      "1. value1 * value2 * value 3\n",
      "2. value1 += value3\n",
      "3. value1 += value2 + value2\n",
      "4. value2 -= value2 * value3\n",
      "5. value1 = value2 * value3 - value1**2\n",
      "5. value3 **= value2"
     ]
    }
   ],
   "metadata": {}
  }
 ]
}