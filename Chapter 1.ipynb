{
 "metadata": {
  "name": "",
  "signature": "sha256:42e6bda40a1d9f20166ef0c23b273b33a7661935ee459fc3cc22e1bbed1777bf"
 },
 "nbformat": 3,
 "nbformat_minor": 0,
 "worksheets": [
  {
   "cells": [
    {
     "cell_type": "heading",
     "level": 1,
     "metadata": {},
     "source": [
      "Chapter 1 - Introduction"
     ]
    },
    {
     "cell_type": "markdown",
     "metadata": {},
     "source": [
      "Python is simple language to understand as most of the commands are plain English. In this chapter, you are going to use Python to create simple scripts, in the interactive interpreter.\n",
      "An interpreted language is where the interpreter runs command for command, as opposed to a compiler language that takes all the code, compiles to byte code/executable and then runs the program. Therefore Python can have an interactive compiler, as Python is an interpreted language. The user enters a command in the interactive interpreter, and the command is executed.\n",
      "In this series the focus is on Python 3.4. There are two major versions of Python. The first is 2.7 and then there is 3.4. The difference is that 3.4 is the newest version that is to a major extend incompatible with code from 2.7. To maintain continuity and let developers make a transition to version 3, the older version is still supported. To use the newest version is better, as this contains all the new syntax and other enhancements."
     ]
    },
    {
     "cell_type": "markdown",
     "metadata": {},
     "source": [
      "![IDLE IDE](pic1.png)\n"
     ]
    },
    {
     "cell_type": "markdown",
     "metadata": {},
     "source": [
      "The interactive Python Shell, as the screenshot above is called, is mainly used for short interactive sessions where the user want to write short amount of code, to test, debug(clear errors), or write specific procedures. In this chapter we focus on this interactive session. As soon as the Python IDLE Shell is closed, all data entered will be erased!\n",
      "Start Python IDLE.\n",
      "The shortest program that one can write is where the interpreter greets a person. For example; Hi there Sally! To do this, the user writes this in a print statement."
     ]
    },
    {
     "cell_type": "heading",
     "level": 2,
     "metadata": {},
     "source": [
      "Output"
     ]
    },
    {
     "cell_type": "code",
     "collapsed": false,
     "input": [
      "print ('Hi there Sally!')\n",
      "print (\"Hi there Sally!\")"
     ],
     "language": "python",
     "metadata": {},
     "outputs": [
      {
       "output_type": "stream",
       "stream": "stdout",
       "text": [
        "Hi there Sally!\n",
        "Hi there Sally!\n"
       ]
      }
     ],
     "prompt_number": 3
    },
    {
     "cell_type": "markdown",
     "metadata": {},
     "source": [
      ">The user entered a print statement. Take note of the following: all lower case the word print; and whatever the user want to displayed is between round brackets and single/double inverted commas. \n",
      "The user can use either double or single inverted commas to display the output or the message. The difference between the two is minimal and will be explained at later stage in detail.\n",
      "In this example, the user displayed a message, or output a message.\n",
      "Another interesting fact is that there are two commands. Each command starts on a new line!"
     ]
    },
    {
     "cell_type": "heading",
     "level": 3,
     "metadata": {},
     "source": [
      "Activity 1"
     ]
    },
    {
     "cell_type": "markdown",
     "metadata": {},
     "source": [
      "1. Write a statement where the computer greet you showing your name.\n",
      "2. Write two statements where the compute greet you showing your name on one line and your surname on the next line."
     ]
    },
    {
     "cell_type": "heading",
     "level": 2,
     "metadata": {},
     "source": [
      "Variables"
     ]
    },
    {
     "cell_type": "markdown",
     "metadata": {},
     "source": [
      "Python is very good at storing of data. To store data, either storing, using or recalling data. In Python there are a few different types. However, for a start the focus is on numbers and text only. Other types will be focused on at a later stage.\n"
     ]
    },
    {
     "cell_type": "heading",
     "level": 3,
     "metadata": {},
     "source": [
      "Numbers"
     ]
    },
    {
     "cell_type": "markdown",
     "metadata": {},
     "source": [
      "Python supports two types of numbers. The first is integers (7, 10, 12, 20000) and floating point numbers."
     ]
    },
    {
     "cell_type": "heading",
     "level": 4,
     "metadata": {},
     "source": [
      "Integers"
     ]
    },
    {
     "cell_type": "markdown",
     "metadata": {},
     "source": [
      "To define integers, assignments are used:"
     ]
    },
    {
     "cell_type": "code",
     "collapsed": false,
     "input": [
      "myvalue=1\n",
      "anothervalue=2\n",
      "someintegervalue=20000"
     ],
     "language": "python",
     "metadata": {},
     "outputs": [],
     "prompt_number": 4
    },
    {
     "cell_type": "markdown",
     "metadata": {},
     "source": [
      "To view the content of the variables use the print statement."
     ]
    },
    {
     "cell_type": "code",
     "collapsed": false,
     "input": [
      "print (myvalue)\n",
      "print (anothervalue)\n",
      "print (someintegervalue)\n",
      "print (myvalue, anothervalue)#Here we display more than one variable"
     ],
     "language": "python",
     "metadata": {},
     "outputs": [
      {
       "output_type": "stream",
       "stream": "stdout",
       "text": [
        "1\n",
        "2\n",
        "20000\n",
        "1 2\n"
       ]
      }
     ],
     "prompt_number": 16
    },
    {
     "cell_type": "markdown",
     "metadata": {},
     "source": [
      "The output displays the values of the integers. "
     ]
    },
    {
     "cell_type": "heading",
     "level": 4,
     "metadata": {},
     "source": [
      "Float"
     ]
    },
    {
     "cell_type": "markdown",
     "metadata": {},
     "source": [
      "Assignment to float values are the same as with integers."
     ]
    },
    {
     "cell_type": "code",
     "collapsed": false,
     "input": [
      "floatvalue = 1.3\n",
      "anotherfloatvalue = 15.45\n",
      "thirdfloatvalue = 123.64323"
     ],
     "language": "python",
     "metadata": {},
     "outputs": [],
     "prompt_number": 17
    },
    {
     "cell_type": "markdown",
     "metadata": {},
     "source": [
      "To view the contetnt of the variables use the print statement"
     ]
    },
    {
     "cell_type": "code",
     "collapsed": false,
     "input": [
      "print (floatvalue)\n",
      "print (anotherfloatvalue)\n",
      "print (thirdfloatvalue)\n",
      "print (floatvalue, anotherfloatvalue)# more than one variable displayed"
     ],
     "language": "python",
     "metadata": {},
     "outputs": [
      {
       "output_type": "stream",
       "stream": "stdout",
       "text": [
        "1.3\n",
        "15.45\n",
        "123.64323\n",
        "1.3 15.45\n"
       ]
      }
     ],
     "prompt_number": 18
    },
    {
     "cell_type": "heading",
     "level": 3,
     "metadata": {},
     "source": [
      "Strings"
     ]
    },
    {
     "cell_type": "markdown",
     "metadata": {},
     "source": [
      "Strings are inside single/double quote. The difference is that double quotes are mainly used to include apostrophes('). Single quotes the user needs to make use of an escape character(\\) before the apostrophe to tell the interpreter that the next character is not end of the string, but still part ot the string."
     ]
    },
    {
     "cell_type": "code",
     "collapsed": false,
     "input": [
      "myname='John'\n",
      "mysurname='Black'\n",
      "apostrophe_sentence='Don\\'t worry about apostrophes'\n",
      "apostrophe_sentencedouble=\"Don't worry about apostrophes\"\n",
      "print (myname)\n",
      "print (mysurname)\n",
      "print (apostrophe_sentence)\n",
      "print (apostrophe_sentencedouble)\n",
      "print (myname, mysurname)#Here we combine to variables to make one output"
     ],
     "language": "python",
     "metadata": {},
     "outputs": [
      {
       "output_type": "stream",
       "stream": "stdout",
       "text": [
        "John\n",
        "Black\n",
        "Don't worry about apostrophes\n",
        "Don't worry about apostrophes\n",
        "John Black\n"
       ]
      }
     ],
     "prompt_number": 14
    },
    {
     "cell_type": "markdown",
     "metadata": {},
     "source": [
      "Using print (variable, variable, string) the user can display more than one value inside a variable:"
     ]
    },
    {
     "cell_type": "code",
     "collapsed": false,
     "input": [
      "print ('Hi there. My name is',myname, mysurname)\n",
      "print ('Hi there. My name is', myname, 'and my surname is', mysurname)"
     ],
     "language": "python",
     "metadata": {},
     "outputs": [
      {
       "output_type": "stream",
       "stream": "stdout",
       "text": [
        "Hi there. My name is John Black\n",
        "Hi there. My name is John and my surname is Black\n"
       ]
      }
     ],
     "prompt_number": 22
    },
    {
     "cell_type": "heading",
     "level": 4,
     "metadata": {},
     "source": [
      "a Way to create new lines \\n"
     ]
    },
    {
     "cell_type": "markdown",
     "metadata": {},
     "source": [
      "The user can print on another line using \\n. This creates a new line on the next line. For example; print ('Hi there \\n Jack')<br/>\n",
      "Will Print:<br/>\n",
      "Hi there\n",
      "Jack"
     ]
    },
    {
     "cell_type": "code",
     "collapsed": false,
     "input": [
      "print ('This is line 1\\nThis is line 2')"
     ],
     "language": "python",
     "metadata": {},
     "outputs": [
      {
       "output_type": "stream",
       "stream": "stdout",
       "text": [
        "This is line 1\n",
        "This is line 2\n"
       ]
      }
     ],
     "prompt_number": 2
    },
    {
     "cell_type": "heading",
     "level": 3,
     "metadata": {},
     "source": [
      "Activity 2"
     ]
    },
    {
     "cell_type": "markdown",
     "metadata": {},
     "source": [
      "Assign values to the following variables and display their contents. Enter all the values first and display all of them afterwards.\n",
      "1. a = -1\n",
      "2. intvalue = 10\n",
      "3. salary = 13567.78\n",
      "4. age = 16.67\n",
      "5. MyHomeTown = \"Springville\""
     ]
    },
    {
     "cell_type": "markdown",
     "metadata": {},
     "source": [
      "In activity 2 number 5 a notation of CamelCaps is used. When the user declares variables, the user can name the variable anything, except for reserved words, such as print.\n",
      "The name of the variable gains significance when a proper name is assigned to the value. As you can see from the above activity, the user do not really know what the significance of a is, or for that matter intvalue. But we know a significance of a salary, the age of a person or MyHomeTown.\n",
      "This brings me back to CamelCaps. This is a way to write the names of variables to give them significant names. Variables must always be one word with no spaces between. To give variables significant names, the user employs names, made up of two or more words, and make the variable readable by assigning each word a capital since there can only be one word. This makes for better readability of the code."
     ]
    },
    {
     "cell_type": "heading",
     "level": 2,
     "metadata": {},
     "source": [
      "Input"
     ]
    },
    {
     "cell_type": "markdown",
     "metadata": {},
     "source": [
      "As you can see the user can store data inside variables. The user can use the input command to store the data inside the variable and display the data in a variable."
     ]
    },
    {
     "cell_type": "code",
     "collapsed": false,
     "input": [
      "MyHomeTown = 'Springville'\n",
      "age = 18\n",
      "print ('Hi there. My name is', myname, 'and my surname is', mysurname)\n",
      "print ('I live in',MyHomeTown, 'and I am', age, 'old')"
     ],
     "language": "python",
     "metadata": {},
     "outputs": []
    },
    {
     "cell_type": "code",
     "collapsed": false,
     "input": [
      "myname=input('Please enter your name:')\n",
      "print (myname)"
     ],
     "language": "python",
     "metadata": {},
     "outputs": [
      {
       "name": "stdout",
       "output_type": "stream",
       "stream": "stdout",
       "text": [
        "Please enter your name:John\n"
       ]
      },
      {
       "output_type": "stream",
       "stream": "stdout",
       "text": [
        "John\n"
       ]
      }
     ],
     "prompt_number": 1
    },
    {
     "cell_type": "markdown",
     "metadata": {},
     "source": [
      "This statement asks the user to enter the name of the user. The user enters the name followed by the enter key. In the following line the name is displayed."
     ]
    },
    {
     "cell_type": "heading",
     "level": 3,
     "metadata": {},
     "source": [
      "Activity 3"
     ]
    },
    {
     "cell_type": "markdown",
     "metadata": {},
     "source": [
      "Write a short program that will ask the user for their name, surname and town of birth. Display the sentence as follows:\n",
      "Hi there John. Your surname is Black, and you were born in Springville."
     ]
    },
    {
     "cell_type": "heading",
     "level": 3,
     "metadata": {},
     "source": [
      "Input of numbers"
     ]
    },
    {
     "cell_type": "markdown",
     "metadata": {},
     "source": [
      "The same can be done for integer and float values. The user can enter values, and display with a sentence."
     ]
    },
    {
     "cell_type": "code",
     "collapsed": false,
     "input": [
      "age=input('Please enter your age')\n",
      "print ('You are',age,'old.')"
     ],
     "language": "python",
     "metadata": {},
     "outputs": [
      {
       "name": "stdout",
       "output_type": "stream",
       "stream": "stdout",
       "text": [
        "Please enter your age18\n"
       ]
      },
      {
       "output_type": "stream",
       "stream": "stdout",
       "text": [
        "You are 18 old.\n"
       ]
      }
     ],
     "prompt_number": 2
    },
    {
     "cell_type": "code",
     "collapsed": false,
     "input": [
      "salary=input('Please enter your salary')\n",
      "print ('Your salary is R',salary)"
     ],
     "language": "python",
     "metadata": {},
     "outputs": [
      {
       "name": "stdout",
       "output_type": "stream",
       "stream": "stdout",
       "text": [
        "Please enter your salary12500\n"
       ]
      },
      {
       "output_type": "stream",
       "stream": "stdout",
       "text": [
        "Your salary is R 12500\n"
       ]
      }
     ],
     "prompt_number": 3
    },
    {
     "cell_type": "heading",
     "level": 3,
     "metadata": {},
     "source": [
      "Activity 4"
     ]
    },
    {
     "cell_type": "markdown",
     "metadata": {},
     "source": [
      "1. Write a program that will enter the name, surname, age and salary of a person. Display as follows: Hello there - John. You are 18 years old, receives a salary of R 12500, and your surname is Black.\n",
      "2. Rewrite the top program to display in the following manner:\n",
      "Name - John\n",
      "Surname - Black\n",
      "Age - 18, Salary - R 12500"
     ]
    }
   ],
   "metadata": {}
  }
 ]
}