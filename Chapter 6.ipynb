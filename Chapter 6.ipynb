{
 "metadata": {
  "name": "",
  "signature": "sha256:90c7d390037e93a71f1ed296b522ccd7c0647bba84ad83531ffd4528c0e661ca"
 },
 "nbformat": 3,
 "nbformat_minor": 0,
 "worksheets": [
  {
   "cells": [
    {
     "cell_type": "heading",
     "level": 1,
     "metadata": {},
     "source": [
      "Chapter 6 - Comparison Operators"
     ]
    },
    {
     "cell_type": "markdown",
     "metadata": {},
     "source": [
      "Comparison is when at least two values are compared to see if there is a specific outcome. This outcome can be either true or false. There is no other outcome except these two. For example: is 5 > 6. The answer to this is false.<br/> Therefore the answer can only be true or false."
     ]
    },
    {
     "cell_type": "raw",
     "metadata": {},
     "source": [
      "<table style = \"border: 1px solid black;text-align:left;border-collapse: collapse;\">\n",
      "<tr style = \"border: 1px solid black;text-align:left\">\n",
      "  <th style = \"border: 1px solid black;text-align:center\">Operator</th>\n",
      "  <th style = \"border: 1px solid black;text-align:center\">Description</th>\n",
      "  <th style = \"border: 1px solid black;text-align:center\">Example</th>\n",
      "</tr>\n",
      "<tr style = \"border: 1px solid black;text-align:left\">\n",
      "  <td style = \"border: 1px solid black;text-align:center;height:50px\">==</td>\n",
      "  <td style = \"border: 1px solid black;text-align:center\">Checks the value of two operands</td>\n",
      "  <td style = \"border: 1px solid black;text-align:center; width:500px\">a == b -> 10 == 20 -> False</td>\n",
      "</tr>\n",
      "<tr style = \"border: 1px solid black;text-align:left\">\n",
      "  <td style = \"border: 1px solid black;text-align:center;height:50px\">!=</td>\n",
      "  <td style = \"border: 1px solid black;text-align:center\">Checks two operands are not equal</td>\n",
      "  <td style = \"border: 1px solid black;text-align:center\">a != b -> 10 != 20 -> True</td>\n",
      "</tr>\n",
      "\n",
      "<tr style = \"border: 1px solid black;text-align:left\">\n",
      "  <td style = \"border: 1px solid black;text-align:center;height:50px\">></td>\n",
      "  <td style = \"border: 1px solid black;text-align:center\">Check if the left operand is greater than the right operand</td>\n",
      "  <td style = \"border: 1px solid black;text-align:center\">a > b -> 10 > 20 -> False</td>\n",
      "</tr>\n",
      "<tr style = \"border: 1px solid black;text-align:left\">\n",
      "  <td style = \"border: 1px solid black;text-align:center;height:50px\"><</td>\n",
      "  <td style = \"border: 1px solid black;text-align:center\">Check if the left opereand is less than the right operand</td>\n",
      "  <td style = \"border: 1px solid black;text-align:center\">a < b -> 10 < 20 -> True</td>\n",
      "</tr>\n",
      "<tr style = \"border: 1px solid black;text-align:left\">\n",
      "  <td style = \"border: 1px solid black;text-align:center;height:50px\">>=</td>\n",
      "  <td style = \"border: 1px solid black;text-align:center\">Checks the left operand is greater or equal to the right operand.</td>\n",
      "  <td style = \"border: 1px solid black;text-align:center\">a >= b -> 10 >= 20 -> False</td>\n",
      "</tr>\n",
      "<tr style = \"border: 1px solid black;text-align:left\">\n",
      "  <td style = \"border: 1px solid black;text-align:center;height:50px\"><=</td>\n",
      "  <td style = \"border: 1px solid black;text-align:center\">Checks the left operand is less or equal to the right operand.</td>\n",
      "  <td style = \"border: 1px solid black;text-align:center\">a <= b -> 10 <= 20 -> True</td>\n",
      "</tr>\n",
      "</table>\n"
     ]
    },
    {
     "cell_type": "raw",
     "metadata": {},
     "source": [
      "In Python 3 the user can enter values and display a true or false statement. Example:"
     ]
    },
    {
     "cell_type": "code",
     "collapsed": false,
     "input": [
      "value1 = 10\n",
      "value2 = 20\n",
      "print (value1 == value2)\n",
      "value1 = '10'\n",
      "value2 = '20'\n",
      "print (value1 == value2)"
     ],
     "language": "python",
     "metadata": {},
     "outputs": [
      {
       "output_type": "stream",
       "stream": "stdout",
       "text": [
        "False\n",
        "False\n"
       ]
      }
     ],
     "prompt_number": 1
    },
    {
     "cell_type": "markdown",
     "metadata": {},
     "source": [
      "As you can see from the example, no matter if the values are entered as values or as text the answer says the same."
     ]
    },
    {
     "cell_type": "code",
     "collapsed": false,
     "input": [
      "print (value1 != value2)\n",
      "print (value1 <= value2)\n",
      "print (value1 >= value2)"
     ],
     "language": "python",
     "metadata": {},
     "outputs": [
      {
       "output_type": "stream",
       "stream": "stdout",
       "text": [
        "True\n",
        "True\n",
        "False\n"
       ]
      }
     ],
     "prompt_number": 5
    },
    {
     "cell_type": "code",
     "collapsed": false,
     "input": [
      "name1 = 'Jack'\n",
      "name2 = 'JACK'\n",
      "print (name1 == name2)\n",
      "print (name1 != name2)\n",
      "print (name1 > name2)"
     ],
     "language": "python",
     "metadata": {},
     "outputs": [
      {
       "output_type": "stream",
       "stream": "stdout",
       "text": [
        "False\n",
        "True\n",
        "True\n"
       ]
      }
     ],
     "prompt_number": 8
    },
    {
     "cell_type": "markdown",
     "metadata": {},
     "source": [
      ">When looking at strings to see which string is larger than the other, Python 3 uses the utf table, to do comparisons.  \n",
      "In the above example utf table for JACK is: 74 65 67 113  \n",
      "In the above example utf table for Jack is: 74 97 99 107  \n",
      "For both the the first letter has the same value 74. In the second letter the small a has a larger value than the capital A. Therefore the small a is larger than the capital A. Hence JACK is smaller than Jack."
     ]
    },
    {
     "cell_type": "heading",
     "level": 2,
     "metadata": {},
     "source": [
      "Activity 10"
     ]
    },
    {
     "cell_type": "markdown",
     "metadata": {},
     "source": [
      "Write a program where the user enters two numbers.\n",
      "The program must display True or False depending on if number1 is greater than number2"
     ]
    }
   ],
   "metadata": {}
  }
 ]
}