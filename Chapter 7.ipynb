{
 "metadata": {
  "name": "",
  "signature": "sha256:c6838ba33beecb651b12f0b2683772ce67c31f8ad86322a8c65f0158f24b7115"
 },
 "nbformat": 3,
 "nbformat_minor": 0,
 "worksheets": [
  {
   "cells": [
    {
     "cell_type": "heading",
     "level": 1,
     "metadata": {},
     "source": [
      "Chapter 7 - Logical Operators"
     ]
    },
    {
     "cell_type": "markdown",
     "metadata": {},
     "source": [
      "Logical operators combine the outcome of comparison operators to form decisions on data. The answer will always be True or False. Data can be compared and decisions made as to how to continue with data. For example, True and True the answer will always be true.<br/>\n",
      "There are three operators. not, and or."
     ]
    },
    {
     "cell_type": "heading",
     "level": 3,
     "metadata": {},
     "source": [
      "not"
     ]
    },
    {
     "cell_type": "markdown",
     "metadata": {},
     "source": [
      "This will always return the opposite of whatever is given. For True the answer will be False, and for False will always be true."
     ]
    },
    {
     "cell_type": "code",
     "collapsed": false,
     "input": [
      "print (not(True))\n",
      "print (not(False))"
     ],
     "language": "python",
     "metadata": {},
     "outputs": [
      {
       "output_type": "stream",
       "stream": "stdout",
       "text": [
        "False\n",
        "True\n"
       ]
      }
     ],
     "prompt_number": 7
    },
    {
     "cell_type": "heading",
     "level": 3,
     "metadata": {},
     "source": [
      "or"
     ]
    },
    {
     "cell_type": "code",
     "collapsed": false,
     "input": [
      "print (False or False)\n",
      "print (False or True)\n",
      "print (True or False)\n",
      "print (True or True)"
     ],
     "language": "python",
     "metadata": {},
     "outputs": [
      {
       "output_type": "stream",
       "stream": "stdout",
       "text": [
        "False\n",
        "True\n",
        "True\n",
        "True\n"
       ]
      }
     ],
     "prompt_number": 10
    },
    {
     "cell_type": "heading",
     "level": 3,
     "metadata": {},
     "source": [
      "and"
     ]
    },
    {
     "cell_type": "code",
     "collapsed": false,
     "input": [
      "print (False and False)\n",
      "print (False and True)\n",
      "print (True and False)\n",
      "print (True and True)"
     ],
     "language": "python",
     "metadata": {},
     "outputs": [
      {
       "output_type": "stream",
       "stream": "stdout",
       "text": [
        "False\n",
        "False\n",
        "False\n",
        "True\n"
       ]
      }
     ],
     "prompt_number": 11
    },
    {
     "cell_type": "markdown",
     "metadata": {},
     "source": [
      ">AS you can see from the above examples, each one gives a slightly different answer, depending on if there is an and or an or.  \n",
      "These are the truth tables, and will always give these answers in these conditions."
     ]
    }
   ],
   "metadata": {}
  }
 ]
}